{
 "cells": [
  {
   "cell_type": "code",
   "execution_count": 183,
   "metadata": {
    "collapsed": false
   },
   "outputs": [
    {
     "name": "stdout",
     "output_type": "stream",
     "text": [
      "The autoreload extension is already loaded. To reload it, use:\n",
      "  %reload_ext autoreload\n"
     ]
    }
   ],
   "source": [
    "%load_ext autoreload\n",
    "%autoreload 2\n",
    "%matplotlib inline"
   ]
  },
  {
   "cell_type": "code",
   "execution_count": 435,
   "metadata": {
    "collapsed": false
   },
   "outputs": [],
   "source": [
    "from __future__ import print_function, absolute_import, division\n",
    "import json\n",
    "import itertools\n",
    "import string\n",
    "import json\n",
    "import logging\n",
    "import copy\n",
    "import collections\n",
    "import functools\n",
    "import sys\n",
    "import random\n",
    "import warnings\n",
    "\n",
    "from IPython.core.getipython import get_ipython\n",
    "from IPython.core.magic import (Magics, magics_class,  cell_magic)\n",
    "from StringIO import StringIO\n",
    "from markdown import markdown\n",
    "from IPython.core.display import HTML, display, clear_output\n",
    "\n",
    "from nltk.corpus import stopwords as _stopwords\n",
    "from nltk.corpus import reuters\n",
    "from sklearn import (manifold, cluster, metrics, cross_validation, tree, grid_search, ensemble, naive_bayes,\n",
    "                     preprocessing,neighbors)\n",
    "import wordcloud\n",
    "import gensim as gs\n",
    "import numpy as np\n",
    "import seaborn as sns\n",
    "import matplotlib.pyplot as plt\n",
    "import scipy\n",
    "import pandas as pd\n",
    "import spacy\n",
    "import nltk\n",
    "from nltk.stem.snowball import SnowballStemmer\n",
    "from nltk.stem import WordNetLemmatizer\n",
    "from IPython.core.display import HTML, display\n",
    "\n",
    "import preprocess_utils as pt"
   ]
  },
  {
   "cell_type": "code",
   "execution_count": 3,
   "metadata": {
    "collapsed": true
   },
   "outputs": [],
   "source": [
    "@magics_class\n",
    "class MarkdownMagics(Magics):\n",
    " \n",
    "    @cell_magic\n",
    "    def asmarkdown(self, line, cell):\n",
    "        buffer = StringIO()\n",
    "        stdout = sys.stdout\n",
    "        sys.stdout = buffer\n",
    "        try:\n",
    "            exec(cell, locals(), self.shell.user_ns)\n",
    "        except:\n",
    "            sys.stdout = stdout\n",
    "            raise\n",
    "        sys.stdout = stdout\n",
    "        return HTML(\"<p>{}</p>\".format(markdown(buffer.getvalue(), extensions=['markdown.extensions.extra'])))\n",
    "        return buffer.getvalue() + 'test'\n",
    " \n",
    "get_ipython().register_magics(MarkdownMagics)"
   ]
  },
  {
   "cell_type": "code",
   "execution_count": 332,
   "metadata": {
    "collapsed": true
   },
   "outputs": [],
   "source": [
    "warnings.filterwarnings('ignore')"
   ]
  },
  {
   "cell_type": "code",
   "execution_count": 4,
   "metadata": {
    "collapsed": true
   },
   "outputs": [],
   "source": [
    "np.set_printoptions(precision=5,suppress=True)"
   ]
  },
  {
   "cell_type": "code",
   "execution_count": 5,
   "metadata": {
    "collapsed": true
   },
   "outputs": [],
   "source": [
    "D2V_VEC_SIZE = 300"
   ]
  },
  {
   "cell_type": "code",
   "execution_count": 6,
   "metadata": {
    "collapsed": true
   },
   "outputs": [],
   "source": [
    "with open('/Users/kahnza2/Documents/data/frataxin_articles.json') as f:\n",
    "    raw_corpus = json.load(f)"
   ]
  },
  {
   "cell_type": "markdown",
   "metadata": {},
   "source": [
    "### Preparing the corpus, pre-spacy\n",
    "This defines a transform manifest which is used to convert the fields of the json dictionary into the format I want."
   ]
  },
  {
   "cell_type": "code",
   "execution_count": 7,
   "metadata": {
    "collapsed": false
   },
   "outputs": [],
   "source": [
    "transform_manifest = {key:lambda x: map(pt.depunc,gs.utils.tokenize(x,deacc=True)) for key in ['abstract', 'title']}\n",
    "transform_manifest['pmid'] = lambda x: int(x)\n",
    "corpus_iterable_strings = [pt.apply_transform(document, transform_manifest) for document in raw_corpus]"
   ]
  },
  {
   "cell_type": "code",
   "execution_count": 8,
   "metadata": {
    "collapsed": true
   },
   "outputs": [],
   "source": [
    "stopset = set(_stopwords.words('english'))\n",
    "corpus = []\n",
    "keys_to_process = keys=['abstract', 'title']\n",
    "for idx, _document in enumerate(corpus_iterable_strings):\n",
    "    document = pt.drop_stopwords(pt.standardize_words(_document, keys=keys),keys=keys, stopset=stopset)\n",
    "    corpus.append(gs.models.doc2vec.TaggedDocument(\n",
    "        document['abstract']+document['title'],[idx]))"
   ]
  },
  {
   "cell_type": "markdown",
   "metadata": {},
   "source": [
    "### Preparing the corpus, post-spacy"
   ]
  },
  {
   "cell_type": "code",
   "execution_count": 9,
   "metadata": {
    "collapsed": true
   },
   "outputs": [],
   "source": [
    "nlp = spacy.en.English()"
   ]
  },
  {
   "cell_type": "code",
   "execution_count": 10,
   "metadata": {
    "collapsed": false
   },
   "outputs": [],
   "source": [
    "doc = nlp(raw_corpus[0]['abstract'])"
   ]
  },
  {
   "cell_type": "code",
   "execution_count": 11,
   "metadata": {
    "collapsed": false
   },
   "outputs": [
    {
     "data": {
      "text/plain": [
       "Fourteen patients with the clinical diagnosis of early onset cerebellar ataxia with retained tendon reflexes (EOCA) were examined and compared with 11 patients with Friedreich's ataxia (FA). The mean age of onset in EOCA was 15.9 +/- 6.0 yrs (FA: 14.0 +/- 5.7 yrs). Annual progression rate and the percentage of patients who were wheelchair-bound was lower in EOCA as compared with FA, although the difference did not reach statistical significance. The latency until becoming wheelchair-bound, however, was significantly longer in EOCA than in FA. The segregation ratio in EOCA was significantly lower than 0.25. Clinically, EOCA and FA patients presented with a progressive cerebellar syndrome. Associated symptoms, such as muscle wasting, sensory disturbances, foot deformity, scoliosis and electrocardiographic abnormalities were encountered less frequently in EOCA than in FA patients. The electrophysiological findings in EOCA were variable and pointed to axonal degeneration in peripheral nerves and central pathways. Posturographic measurements revealed a higher incidence of anteroposterior sway direction in EOCA as compared with FA, suggesting a cerebellar type of ataxia in EOCA. Eleven out of the 14 EOCA patients had cerebellar atrophy in MRI. The characteristic MRI finding in FA was upper cervical cord shrinkage and only minor atrophy of the cerebellum. The demonstration of cerebellar atrophy in the majority of EOCA patients supports the view that EOCA is distinct from FA. It is uncertain, however, whether EOCA is a homogenous disease entity or a group of phenotypically similar syndromes."
      ]
     },
     "execution_count": 11,
     "metadata": {},
     "output_type": "execute_result"
    }
   ],
   "source": [
    "doc"
   ]
  },
  {
   "cell_type": "code",
   "execution_count": 12,
   "metadata": {
    "collapsed": false
   },
   "outputs": [
    {
     "name": "stdout",
     "output_type": "stream",
     "text": [
      "fourteen patient with the clinical diagnosis of early onset cerebellar ataxia with retain tendon reflex ( eoca ) be examine and compare with 11 patient with friedreich 's ataxia ( fa ) .\n",
      "___________________________\n",
      "the mean age of onset in eoca be 15.9 +/- 6.0 yr ( fa : 14.0 +/- 5.7 yr ) .\n",
      "___________________________\n",
      "annual progression rate and the percentage of patient who be wheelchair - bind be low in eoca as compare with fa , although the difference do not reach statistical significance .\n",
      "___________________________\n",
      "the latency until become wheelchair - bind , however , be significantly longer in eoca than in fa.\n",
      "___________________________\n",
      "the segregation ratio in eoca be significantly low than 0.25 .\n",
      "___________________________\n",
      "clinically , eoca and fa patient present with a progressive cerebellar syndrome .\n",
      "___________________________\n",
      "associated symptom , such as muscle waste , sensory disturbance , foot deformity , scoliosis and electrocardiographic abnormality be encounter less frequently in eoca than in fa patient .\n",
      "___________________________\n",
      "the electrophysiological finding in eoca be variable and point to axonal degeneration in peripheral nerve and central pathway .\n",
      "___________________________\n",
      "posturographic measurement reveal a high incidence of anteroposterior sway direction in eoca as compare with fa , suggest a cerebellar type of ataxia in eoca. eleven out of the 14 eoca patient have cerebellar atrophy in mri.\n",
      "___________________________\n",
      "the characteristic mri find in fa be upper cervical cord shrinkage and only minor atrophy of the cerebellum .\n",
      "___________________________\n",
      "the demonstration of cerebellar atrophy in the majority of eoca patient support the view that eoca be distinct from fa.\n",
      "___________________________\n",
      "it be uncertain , however , whether eoca be a homogenous disease entity or a group of phenotypically similar syndrome .\n"
     ]
    }
   ],
   "source": [
    "print('\\n___________________________\\n'.join([str(sent.lemma_) for sent in doc.sents]))"
   ]
  },
  {
   "cell_type": "markdown",
   "metadata": {},
   "source": [
    "## NLTK stemming"
   ]
  },
  {
   "cell_type": "code",
   "execution_count": 13,
   "metadata": {
    "collapsed": false
   },
   "outputs": [],
   "source": [
    "stemmer = SnowballStemmer('english')"
   ]
  },
  {
   "cell_type": "code",
   "execution_count": 14,
   "metadata": {
    "collapsed": false,
    "scrolled": true
   },
   "outputs": [
    {
     "data": {
      "text/plain": [
       "[u'fourteen',\n",
       " u'patient',\n",
       " u'with',\n",
       " u'the',\n",
       " u'clinic',\n",
       " u'diagnosi',\n",
       " 'of',\n",
       " u'earli',\n",
       " u'onset',\n",
       " u'cerebellar']"
      ]
     },
     "execution_count": 14,
     "metadata": {},
     "output_type": "execute_result"
    }
   ],
   "source": [
    "[stemmer.stem(str(tok)) for tok in doc][:10]"
   ]
  },
  {
   "cell_type": "code",
   "execution_count": 15,
   "metadata": {
    "collapsed": true
   },
   "outputs": [],
   "source": [
    "lemmatizer = WordNetLemmatizer()"
   ]
  },
  {
   "cell_type": "code",
   "execution_count": 16,
   "metadata": {
    "collapsed": false
   },
   "outputs": [
    {
     "data": {
      "text/plain": [
       "'clinically'"
      ]
     },
     "execution_count": 16,
     "metadata": {},
     "output_type": "execute_result"
    }
   ],
   "source": [
    "lemmatizer.lemmatize('clinically')"
   ]
  },
  {
   "cell_type": "markdown",
   "metadata": {},
   "source": [
    "Looks like what I actually want is to do stemming on words, not lemmatization."
   ]
  },
  {
   "cell_type": "code",
   "execution_count": 17,
   "metadata": {
    "collapsed": false
   },
   "outputs": [],
   "source": [
    "def approp_doc(doc):\n",
    "    for tok in doc:\n",
    "        if not tok.is_alpha:\n",
    "            continue\n",
    "        elif pt.is_acronym(unicode(tok)) and not tok.is_punct and not tok.is_stop and not tok.like_num:\n",
    "            yield unicode(tok)\n",
    "        elif not tok.like_num and not tok.is_stop and not tok.is_punct and tok.is_alpha:\n",
    "            yield tok.lemma_\n",
    "pipe_generator = nlp.pipe([doc_['title']+doc_['abstract'] for doc_ in raw_corpus],n_threads=1)"
   ]
  },
  {
   "cell_type": "code",
   "execution_count": 18,
   "metadata": {
    "collapsed": false
   },
   "outputs": [],
   "source": [
    "cleaned_corpus = []\n",
    "for doc in pipe_generator:\n",
    "    cleaned_corpus.append(list(approp_doc(doc)))"
   ]
  },
  {
   "cell_type": "code",
   "execution_count": 377,
   "metadata": {
    "collapsed": false
   },
   "outputs": [
    {
     "data": {
      "text/plain": [
       "u'phosphorylation|DNA|binding|regulator|DcuR|fumarate|responsive|component|DcuSR|escherichia|coli|function|response|regulator|DcuR|DcuSR|fumarate|component|sensory|escherichia|coli|analyse|vitro|isolate|DcuR|protein|phosphorylated|sensory|histidine|kinase|DcuS|ATP|acetyl|phosphate|gel|retardation|assay|target|promoter|frdA|dcuB|dctA|phosphoryl|DcuR|DcuR|p|form|high|affinity|complex|apparent|app|microM|DcuR|p|low|affinity|app|microM|complex|high|affinity|complex|form|promoter|transcriptionally|regulate|DcuSR|low|affinity|binding|see|DcuSR|independent|promoter|bind|site|DcuR|p|dcuB|promoter|determine|DNase|footprinting|bind|site|nt|position|nt|upstream|transcriptional|start|identify|presence|low|high|concentration|DcuR|non|phosphorylated|DcuR|DcuR|mutate|phosphoryl|accept|residue|show|low|affinity|binding|target|promoter|DcuR|able|interact|DcuR|increase|phosphorylation|DcuS|competitively|inhibit|phosphoryl|transfer|wild|type'"
      ]
     },
     "execution_count": 377,
     "metadata": {},
     "output_type": "execute_result"
    }
   ],
   "source": [
    "'|'.join(cleaned_corpus[3])"
   ]
  },
  {
   "cell_type": "code",
   "execution_count": 376,
   "metadata": {
    "collapsed": false
   },
   "outputs": [
    {
     "name": "stdout",
     "output_type": "stream",
     "text": [
      "Lipids and lipoproteins in Friedreich's ataxia.\n"
     ]
    },
    {
     "data": {
      "text/plain": [
       "u'The function of the response regulator DcuR of the DcuSR fumarate two-component sensory system of Escherichia coli was analysed in vitro. Isolated DcuR protein was phosphorylated by the sensory histidine kinase, DcuS, and ATP, or by acetyl phosphate. In gel retardation assays with target promoters (frdA, dcuB, dctA), phosphoryl DcuR (DcuR-P) formed a high-affinity complex, with an apparent K(D) (app. K(D)) of 0.2-0.3 microM DcuR-P, and a low-affinity (app. K(D) 0.8-2 microM) complex. The high-affinity complex was formed only with promoters transcriptionally-regulated by DcuSR, whereas low-affinity binding was seen also with some DcuSR-independent promoters. The binding site of DcuR-P at the dcuB promoter was determined by DNase I footprinting. One binding site of 42-52 nt (position -359 to -400/-410 nt upstream of the transcriptional start) was identified in the presence of low and high concentrations of DcuR-P. Non-phosphorylated DcuR, or DcuR-D56N mutated in the phosphoryl-accepting Asp56 residue, showed low-affinity binding to target promoters. DcuR-D56N was still able to interact with DcuS. DcuR-D56N increased the phosphorylation of DcuS and competitively inhibited phosphoryl transfer to wild-type DcuR.'"
      ]
     },
     "execution_count": 376,
     "metadata": {},
     "output_type": "execute_result"
    }
   ],
   "source": [
    "print(raw_corpus[2]['title'])\n",
    "raw_corpus[3]['abstract']"
   ]
  },
  {
   "cell_type": "code",
   "execution_count": 21,
   "metadata": {
    "collapsed": true
   },
   "outputs": [],
   "source": [
    "doc = nlp(raw_corpus[1]['title']+raw_corpus[1]['abstract'])"
   ]
  },
  {
   "cell_type": "code",
   "execution_count": 22,
   "metadata": {
    "collapsed": false
   },
   "outputs": [
    {
     "name": "stdout",
     "output_type": "stream",
     "text": [
      "Friedreich PERSON\n",
      "Babinski PERSON\n",
      "Friedreich ORG\n"
     ]
    }
   ],
   "source": [
    "for ent in doc.ents:\n",
    "    print(ent,ent.label_)"
   ]
  },
  {
   "cell_type": "code",
   "execution_count": 23,
   "metadata": {
    "collapsed": false
   },
   "outputs": [
    {
     "data": {
      "text/plain": [
       "[Friedreich's ataxia and hereditary vitamin E deficiency. Case study].A 24-year-old patient, born from consanguineous parents, consulted for cerebellar syndrome, ataxia, loss of proprioception, bilateral Babinski sign and lower limbs areflexia. No mutation on Friedreich's ataxia gene was found. Plasmatic vitamin E level was extremely low. Point mutation on gene coding for alpha-tocopherol transfer protein (alpha-TTP) confirmed the diagnosis of familial isolated vitamin E deficiency (AVED). Vitamin E therapy restored normal serum levels and neurological symptoms were stabilized."
      ]
     },
     "execution_count": 23,
     "metadata": {},
     "output_type": "execute_result"
    }
   ],
   "source": [
    "doc"
   ]
  },
  {
   "cell_type": "code",
   "execution_count": 24,
   "metadata": {
    "collapsed": false,
    "scrolled": false
   },
   "outputs": [
    {
     "name": "stdout",
     "output_type": "stream",
     "text": [
      "Friedreich ataxia\n",
      "ataxia deficiency\n",
      "hereditary deficiency\n",
      "vitamin deficiency\n",
      "E deficiency\n",
      "deficiency deficiency\n",
      "Case consult\n",
      "old patient\n",
      "patient case\n",
      "born case\n",
      "consanguineous parent\n",
      "parents from\n",
      "consulted consult\n",
      "cerebellar syndrome\n",
      "syndrome for\n",
      "ataxia syndrome\n",
      "loss consult\n",
      "proprioception of\n",
      "bilateral sign\n",
      "Babinski sign\n",
      "sign proprioception\n",
      "lower limb\n",
      "limbs sign\n",
      "areflexia consult\n",
      "mutation find\n",
      "Friedreich gene\n",
      "ataxia gene\n",
      "gene on\n",
      "Plasmatic level\n",
      "vitamin level\n",
      "E level\n",
      "level be\n",
      "extremely low\n",
      "low be\n",
      "Point mutation\n",
      "mutation confirm\n",
      "gene on\n",
      "coding mutation\n",
      "alpha tocopherol\n",
      "tocopherol protein\n",
      "transfer protein\n",
      "protein for\n",
      "alpha ttp\n",
      "TTP protein\n",
      "confirmed confirm\n",
      "diagnosis confirm\n",
      "familial deficiency\n",
      "isolated deficiency\n",
      "vitamin deficiency\n",
      "E deficiency\n",
      "deficiency of\n",
      "AVED deficiency\n",
      "Vitamin therapy\n",
      "E therapy\n",
      "therapy restore\n",
      "restored restore\n",
      "normal level\n",
      "serum level\n",
      "levels restore\n",
      "neurological symptom\n",
      "symptoms level\n",
      "stabilized restore\n"
     ]
    }
   ],
   "source": [
    "for tok in doc:\n",
    "    if not tok.is_punct and tok.is_alpha and not tok.is_stop:\n",
    "            print(tok, tok.head.lemma_)"
   ]
  },
  {
   "cell_type": "code",
   "execution_count": 25,
   "metadata": {
    "collapsed": false
   },
   "outputs": [
    {
     "name": "stdout",
     "output_type": "stream",
     "text": [
      "set([u'case', u'dobj', u'nsubj', u'cc', u'appos', u'advmod', u'det', u'nmod', u'amod', u'punct', u'auxpass', u'pobj', u'nsubjpass', u'prep', u'compound', u'conj', u'acl', u'ROOT', u'poss', u'acomp'])\n"
     ]
    }
   ],
   "source": [
    "print(set([tok.dep_ for tok in doc]))"
   ]
  },
  {
   "cell_type": "code",
   "execution_count": 26,
   "metadata": {
    "collapsed": false
   },
   "outputs": [],
   "source": [
    "cleaned_corpus_strings = []\n",
    "for idx,doc in enumerate(cleaned_corpus):\n",
    "    cleaned_corpus_strings.append(gs.models.doc2vec.TaggedDocument(words=doc,tags=[idx]))"
   ]
  },
  {
   "cell_type": "code",
   "execution_count": 27,
   "metadata": {
    "collapsed": false
   },
   "outputs": [],
   "source": [
    "id2word = gs.corpora.Dictionary(documents=cleaned_corpus)\n",
    "known_words = set(id2word.values())\n",
    "id2word.filter_extremes(2,0.9)"
   ]
  },
  {
   "cell_type": "code",
   "execution_count": 28,
   "metadata": {
    "collapsed": false
   },
   "outputs": [],
   "source": [
    "filtered_corpus = []\n",
    "for idx,doc in enumerate(cleaned_corpus):\n",
    "    filtered_corpus.append(gs.models.doc2vec.TaggedDocument(words=[word for word in doc if word in known_words],tags=[idx]))"
   ]
  },
  {
   "cell_type": "code",
   "execution_count": 29,
   "metadata": {
    "collapsed": false
   },
   "outputs": [
    {
     "data": {
      "text/plain": [
       "6588"
      ]
     },
     "execution_count": 29,
     "metadata": {},
     "output_type": "execute_result"
    }
   ],
   "source": [
    "len(id2word)"
   ]
  },
  {
   "cell_type": "code",
   "execution_count": 30,
   "metadata": {
    "collapsed": false
   },
   "outputs": [],
   "source": [
    "model = gs.models.Doc2Vec(documents=filtered_corpus,min_count=0,workers=2,size=300,window=10,dbow_words=1)"
   ]
  },
  {
   "cell_type": "code",
   "execution_count": 31,
   "metadata": {
    "collapsed": false
   },
   "outputs": [
    {
     "data": {
      "text/plain": [
       "[u'coupling',\n",
       " u'porphyria',\n",
       " u'cuneate',\n",
       " u'osteopetrosis',\n",
       " u'emery',\n",
       " u'subscore',\n",
       " u'riboflavin',\n",
       " u'unverricht',\n",
       " u'bcr',\n",
       " u'coactivation']"
      ]
     },
     "execution_count": 31,
     "metadata": {},
     "output_type": "execute_result"
    }
   ],
   "source": [
    "model.vocab.keys()[-10:]"
   ]
  },
  {
   "cell_type": "code",
   "execution_count": 32,
   "metadata": {
    "collapsed": false
   },
   "outputs": [
    {
     "data": {
      "text/plain": [
       "[(u'growth', 0.7200939655303955),\n",
       " (u'anaerobic', 0.7116987109184265),\n",
       " (u'aerobic', 0.6896543502807617),\n",
       " (u'property', 0.6803722977638245),\n",
       " (u'cycle', 0.6762419939041138),\n",
       " (u'synthesize', 0.6674469709396362),\n",
       " (u'inducible', 0.6557919979095459),\n",
       " (u'microscopy', 0.6556148529052734),\n",
       " (u'defense', 0.6540102362632751),\n",
       " (u'maintain', 0.6528592109680176)]"
      ]
     },
     "execution_count": 32,
     "metadata": {},
     "output_type": "execute_result"
    }
   ],
   "source": [
    "model.most_similar('bcr')"
   ]
  },
  {
   "cell_type": "code",
   "execution_count": 33,
   "metadata": {
    "collapsed": false
   },
   "outputs": [
    {
     "data": {
      "text/plain": [
       "[(u'gene', 0.9307754039764404),\n",
       " (u'transcription', 0.8871394991874695),\n",
       " (u'silence', 0.8855202198028564),\n",
       " (u'elongation', 0.853752613067627),\n",
       " (u'deletion', 0.8467554450035095),\n",
       " (u'silencing', 0.8350776433944702),\n",
       " (u'clone', 0.8323711156845093),\n",
       " (u'exon', 0.8309024572372437),\n",
       " (u'DNA', 0.825502336025238),\n",
       " (u'repression', 0.8172047138214111)]"
      ]
     },
     "execution_count": 33,
     "metadata": {},
     "output_type": "execute_result"
    }
   ],
   "source": [
    "model.most_similar('FXN')"
   ]
  },
  {
   "cell_type": "code",
   "execution_count": 34,
   "metadata": {
    "collapsed": false
   },
   "outputs": [
    {
     "data": {
      "text/plain": [
       "[(u'classical', 0.6463929414749146),\n",
       " (u'ataxy', 0.6443823575973511),\n",
       " (u'ataxia', 0.6340795755386353),\n",
       " (u'myocardiopathy', 0.632083535194397),\n",
       " (u'catecholamine', 0.6294775605201721),\n",
       " (u'quality', 0.6159369945526123),\n",
       " (u'nikolaus', 0.605842113494873),\n",
       " (u'involvement', 0.5806137919425964),\n",
       " (u'survival', 0.5750750303268433),\n",
       " (u'dentate', 0.5704149007797241)]"
      ]
     },
     "execution_count": 34,
     "metadata": {},
     "output_type": "execute_result"
    }
   ],
   "source": [
    "model.most_similar('riboflavin')"
   ]
  },
  {
   "cell_type": "code",
   "execution_count": 35,
   "metadata": {
    "collapsed": false
   },
   "outputs": [],
   "source": [
    "dmatrix = scipy.spatial.distance.squareform(scipy.spatial.distance.pdist(model.syn0,metric='cosine'))"
   ]
  },
  {
   "cell_type": "code",
   "execution_count": 36,
   "metadata": {
    "collapsed": false
   },
   "outputs": [],
   "source": [
    "rows, cols = np.diag_indices_from(dmatrix)"
   ]
  },
  {
   "cell_type": "code",
   "execution_count": 37,
   "metadata": {
    "collapsed": true
   },
   "outputs": [],
   "source": [
    "dmatrix[rows, cols] = np.inf"
   ]
  },
  {
   "cell_type": "markdown",
   "metadata": {},
   "source": [
    "### Is it possible to add more sentences to each document by generating noun phrases from the dependency graph?"
   ]
  },
  {
   "cell_type": "code",
   "execution_count": 38,
   "metadata": {
    "collapsed": true
   },
   "outputs": [],
   "source": [
    "doc = nlp(raw_corpus[3]['abstract'])"
   ]
  },
  {
   "cell_type": "code",
   "execution_count": 39,
   "metadata": {
    "collapsed": false
   },
   "outputs": [
    {
     "name": "stdout",
     "output_type": "stream",
     "text": [
      "The function the response regulator the DcuSR fumarate two-component sensory system Escherichia coli vitro Isolated DcuR protein the sensory histidine kinase acetyl phosphate gel retardation assays target promoters a high-affinity complex an apparent K(D The high-affinity complex promoters low-affinity binding some DcuSR-independent promoters The binding site the dcuB promoter One binding site the transcriptional start the presence low and high concentrations the phosphoryl-accepting Asp56 residue low-affinity binding promoters the phosphorylation phosphoryl transfer wild-type DcuR.\n"
     ]
    }
   ],
   "source": [
    "print(' '.join(str(x) for x in doc.noun_chunks))"
   ]
  },
  {
   "cell_type": "code",
   "execution_count": 40,
   "metadata": {
    "collapsed": false
   },
   "outputs": [
    {
     "data": {
      "text/plain": [
       "The function of the response regulator DcuR of the DcuSR fumarate two-component sensory system of Escherichia coli was analysed in vitro. Isolated DcuR protein was phosphorylated by the sensory histidine kinase, DcuS, and ATP, or by acetyl phosphate. In gel retardation assays with target promoters (frdA, dcuB, dctA), phosphoryl DcuR (DcuR-P) formed a high-affinity complex, with an apparent K(D) (app. K(D)) of 0.2-0.3 microM DcuR-P, and a low-affinity (app. K(D) 0.8-2 microM) complex. The high-affinity complex was formed only with promoters transcriptionally-regulated by DcuSR, whereas low-affinity binding was seen also with some DcuSR-independent promoters. The binding site of DcuR-P at the dcuB promoter was determined by DNase I footprinting. One binding site of 42-52 nt (position -359 to -400/-410 nt upstream of the transcriptional start) was identified in the presence of low and high concentrations of DcuR-P. Non-phosphorylated DcuR, or DcuR-D56N mutated in the phosphoryl-accepting Asp56 residue, showed low-affinity binding to target promoters. DcuR-D56N was still able to interact with DcuS. DcuR-D56N increased the phosphorylation of DcuS and competitively inhibited phosphoryl transfer to wild-type DcuR."
      ]
     },
     "execution_count": 40,
     "metadata": {},
     "output_type": "execute_result"
    }
   ],
   "source": [
    "doc"
   ]
  },
  {
   "cell_type": "code",
   "execution_count": 229,
   "metadata": {
    "collapsed": true
   },
   "outputs": [],
   "source": [
    "noun_corpus = []\n",
    "for doc in nlp.pipe([doc_['title']+doc_['abstract'] for doc_ in raw_corpus]):\n",
    "    noun_corpus.append(list(itertools.chain.from_iterable([approp_doc(phrase) for phrase in doc.noun_chunks])))"
   ]
  },
  {
   "cell_type": "code",
   "execution_count": 241,
   "metadata": {
    "collapsed": false
   },
   "outputs": [],
   "source": [
    "noun_corpus_tagged = [gs.models.doc2vec.TaggedDocument(\n",
    "        words=[word for word in words if word in known_words], tags=[idx]) for idx, words in enumerate(noun_corpus)]"
   ]
  },
  {
   "cell_type": "code",
   "execution_count": 257,
   "metadata": {
    "collapsed": false
   },
   "outputs": [],
   "source": [
    "noun_model = gs.models.Doc2Vec(documents=noun_corpus_tagged,min_count=0,workers=2,size=300,window=10,dbow_words=1)"
   ]
  },
  {
   "cell_type": "code",
   "execution_count": 267,
   "metadata": {
    "collapsed": false
   },
   "outputs": [
    {
     "data": {
      "text/plain": [
       "[(u'axon', 0.5322227478027344),\n",
       " (u'grow', 0.5254589319229126),\n",
       " (u'pathological', 0.5164415836334229),\n",
       " (u'thoracic', 0.5095628499984741),\n",
       " (u'significance', 0.5067158341407776),\n",
       " (u'health', 0.5051459074020386),\n",
       " (u'speed', 0.5004512071609497),\n",
       " (u'nucleus', 0.4983372688293457),\n",
       " (u'mode', 0.4960317313671112),\n",
       " (u'foot', 0.4932441711425781)]"
      ]
     },
     "execution_count": 267,
     "metadata": {},
     "output_type": "execute_result"
    }
   ],
   "source": [
    "noun_model.most_similar('riboflavin')"
   ]
  },
  {
   "cell_type": "code",
   "execution_count": 259,
   "metadata": {
    "collapsed": false
   },
   "outputs": [
    {
     "data": {
      "text/plain": [
       "[(u'replication', 0.9214732646942139),\n",
       " (u'sequence', 0.9141572713851929),\n",
       " (u'coding', 0.9097259044647217),\n",
       " (u'mRNA', 0.906334400177002),\n",
       " (u'conformation', 0.9053191542625427),\n",
       " (u'repair', 0.9015089273452759),\n",
       " (u'methylation', 0.8923825621604919),\n",
       " (u'genomic', 0.8920159935951233),\n",
       " (u'gene', 0.8896386623382568),\n",
       " (u'DNA', 0.8860011100769043)]"
      ]
     },
     "execution_count": 259,
     "metadata": {},
     "output_type": "execute_result"
    }
   ],
   "source": [
    "noun_model.most_similar('FXN')"
   ]
  },
  {
   "cell_type": "code",
   "execution_count": 265,
   "metadata": {
    "collapsed": false
   },
   "outputs": [
    {
     "data": {
      "text/plain": [
       "[(u'operon', 0.9403022527694702),\n",
       " (u'terminal', 0.9361766576766968),\n",
       " (u'fumarate', 0.92973792552948),\n",
       " (u'anaerobic', 0.9009178280830383),\n",
       " (u'growth', 0.8999775648117065),\n",
       " (u'target', 0.8949384689331055),\n",
       " (u'electron', 0.8938944935798645),\n",
       " (u'nitrate', 0.8914185762405396),\n",
       " (u'subunit', 0.8909289240837097),\n",
       " (u'respiration', 0.8805306553840637)]"
      ]
     },
     "execution_count": 265,
     "metadata": {},
     "output_type": "execute_result"
    }
   ],
   "source": [
    "noun_model.most_similar('reductase')"
   ]
  },
  {
   "cell_type": "code",
   "execution_count": 266,
   "metadata": {
    "collapsed": false
   },
   "outputs": [
    {
     "data": {
      "text/plain": [
       "[(u'image', 0.553923487663269),\n",
       " (u'protective', 0.5520947575569153),\n",
       " (u'derive', 0.5507909059524536),\n",
       " (u'zinc', 0.5499081611633301),\n",
       " (u'inducible', 0.5496088266372681),\n",
       " (u'superoxide', 0.5334028005599976),\n",
       " (u'surface', 0.5322036743164062),\n",
       " (u'substantial', 0.5321758389472961),\n",
       " (u'assay', 0.5312786102294922),\n",
       " (u'amount', 0.5298240780830383)]"
      ]
     },
     "execution_count": 266,
     "metadata": {},
     "output_type": "execute_result"
    }
   ],
   "source": [
    "noun_model.most_similar('bcr')"
   ]
  },
  {
   "cell_type": "markdown",
   "metadata": {},
   "source": [
    "### Walking the graph of a document"
   ]
  },
  {
   "cell_type": "code",
   "execution_count": 41,
   "metadata": {
    "collapsed": false
   },
   "outputs": [
    {
     "name": "stdout",
     "output_type": "stream",
     "text": [
      "analysed ----> [function, was, in, .]\n",
      "phosphorylated ----> [protein, was, by, .]\n",
      "formed ----> [In, (, DcuR, complex, ,, with, )]\n",
      "app ----> [(, .]\n",
      "K(D ----> [), ), of, ,, and, app, .]\n",
      "complex ----> [K(D, microM, .]\n",
      "formed ----> [complex, was, with, ,, seen, .]\n",
      "determined ----> [site, was, by, footprinting, .]\n",
      "identified ----> [site, was, in, mutated, .]\n",
      "was ----> [D56N, still, able, increased]\n"
     ]
    }
   ],
   "source": [
    "for tok in doc:\n",
    "    if tok.dep_ != 'ROOT':\n",
    "        continue\n",
    "    else:\n",
    "        print(tok, '---->',list(tok.children))\n",
    "    "
   ]
  },
  {
   "cell_type": "code",
   "execution_count": 42,
   "metadata": {
    "collapsed": false
   },
   "outputs": [],
   "source": [
    "dfs_walks = []\n",
    "for tok in doc:\n",
    "    is_term = list(tok.children)\n",
    "    if not is_term:\n",
    "        tok_ = tok\n",
    "        dfs_walk = []\n",
    "        while tok_ is not tok_.head:\n",
    "            dfs_walk.append(tok_)\n",
    "            tok_ = tok_.head\n",
    "        dfs_walks.append(dfs_walk)"
   ]
  },
  {
   "cell_type": "code",
   "execution_count": 43,
   "metadata": {
    "collapsed": false
   },
   "outputs": [
    {
     "data": {
      "text/plain": [
       "The function of the response regulator DcuR of the DcuSR fumarate two-component sensory system of Escherichia coli was analysed in vitro. Isolated DcuR protein was phosphorylated by the sensory histidine kinase, DcuS, and ATP, or by acetyl phosphate. In gel retardation assays with target promoters (frdA, dcuB, dctA), phosphoryl DcuR (DcuR-P) formed a high-affinity complex, with an apparent K(D) (app. K(D)) of 0.2-0.3 microM DcuR-P, and a low-affinity (app. K(D) 0.8-2 microM) complex. The high-affinity complex was formed only with promoters transcriptionally-regulated by DcuSR, whereas low-affinity binding was seen also with some DcuSR-independent promoters. The binding site of DcuR-P at the dcuB promoter was determined by DNase I footprinting. One binding site of 42-52 nt (position -359 to -400/-410 nt upstream of the transcriptional start) was identified in the presence of low and high concentrations of DcuR-P. Non-phosphorylated DcuR, or DcuR-D56N mutated in the phosphoryl-accepting Asp56 residue, showed low-affinity binding to target promoters. DcuR-D56N was still able to interact with DcuS. DcuR-D56N increased the phosphorylation of DcuS and competitively inhibited phosphoryl transfer to wild-type DcuR."
      ]
     },
     "execution_count": 43,
     "metadata": {},
     "output_type": "execute_result"
    }
   ],
   "source": [
    "doc"
   ]
  },
  {
   "cell_type": "code",
   "execution_count": 44,
   "metadata": {
    "collapsed": true
   },
   "outputs": [],
   "source": [
    "def dependency_labels_to_root(token):\n",
    "    '''Walk up the syntactic tree, collecting the arc labels.'''\n",
    "    dep_labels = []\n",
    "    while token.head is not token:\n",
    "        dep_labels.append(token.dep)\n",
    "        token = token.head\n",
    "    return dep_labels"
   ]
  },
  {
   "cell_type": "code",
   "execution_count": 45,
   "metadata": {
    "collapsed": false
   },
   "outputs": [
    {
     "data": {
      "text/plain": [
       "[401, 405, 380, 375, 375]"
      ]
     },
     "execution_count": 45,
     "metadata": {},
     "output_type": "execute_result"
    }
   ],
   "source": [
    "dependency_labels_to_root(tok)"
   ]
  },
  {
   "cell_type": "code",
   "execution_count": 47,
   "metadata": {
    "collapsed": false
   },
   "outputs": [],
   "source": [
    "def graph_walks(doc):\n",
    "    walks = []\n",
    "    for tok in doc:\n",
    "        is_term = list(tok.children)\n",
    "        if not is_term:\n",
    "            tok_ = tok\n",
    "            walk = []\n",
    "            while tok_ is not tok_.head:\n",
    "                walk.append(tok_)\n",
    "                tok_ = tok_.head\n",
    "            else:\n",
    "                walk.append(tok_)\n",
    "            walks.append(walk)\n",
    "    return walks"
   ]
  },
  {
   "cell_type": "code",
   "execution_count": 48,
   "metadata": {
    "collapsed": false
   },
   "outputs": [],
   "source": [
    "all_walks_pipe = nlp.pipe([doc_['title']+doc_['abstract'] for doc_ in raw_corpus],n_threads=1)\n",
    "all_walks_corpus = [list(approp_doc(itertools.chain.from_iterable(graph_walks(doc_)))) for doc_ in all_walks_pipe]"
   ]
  },
  {
   "cell_type": "code",
   "execution_count": 49,
   "metadata": {
    "collapsed": true
   },
   "outputs": [],
   "source": [
    "all_walks_corpus = [gs.models.doc2vec.TaggedDocument(words=words, tags=[idx]) for idx, words in enumerate(all_walks_corpus)]"
   ]
  },
  {
   "cell_type": "code",
   "execution_count": 72,
   "metadata": {
    "collapsed": true
   },
   "outputs": [],
   "source": [
    "all_walks_model = gs.models.Doc2Vec(documents=all_walks_corpus,min_count=0,workers=2,size=300,window=10,dbow_words=0)"
   ]
  },
  {
   "cell_type": "code",
   "execution_count": 73,
   "metadata": {
    "collapsed": false
   },
   "outputs": [
    {
     "data": {
      "text/plain": [
       "[(u'encoding', 0.6583304405212402),\n",
       " (u'gene', 0.6397207975387573),\n",
       " (u'expression', 0.6084086894989014),\n",
       " (u'intron', 0.6031765937805176),\n",
       " (u'frataxin', 0.4965081512928009),\n",
       " (u'tat', 0.48622697591781616),\n",
       " (u'transgene', 0.4706765413284302),\n",
       " (u'MIPEP', 0.4664611220359802),\n",
       " (u'silence', 0.4585033059120178),\n",
       " (u'quantitation', 0.4552176892757416)]"
      ]
     },
     "execution_count": 73,
     "metadata": {},
     "output_type": "execute_result"
    }
   ],
   "source": [
    "all_walks_model.most_similar('FXN')"
   ]
  },
  {
   "cell_type": "code",
   "execution_count": 74,
   "metadata": {
    "collapsed": false
   },
   "outputs": [
    {
     "data": {
      "text/plain": [
       "[(u'thiamin', 0.8278229236602783),\n",
       " (u'carotene', 0.6438639163970947),\n",
       " (u'folate', 0.6011594533920288),\n",
       " (u'assess', 0.5333079099655151),\n",
       " (u'histology', 0.48635151982307434),\n",
       " (u'OCT', 0.477713942527771),\n",
       " (u'register', 0.46769994497299194),\n",
       " (u'plus', 0.464294970035553),\n",
       " (u'underestimate', 0.46135807037353516),\n",
       " (u'adapt', 0.4497045576572418)]"
      ]
     },
     "execution_count": 74,
     "metadata": {},
     "output_type": "execute_result"
    }
   ],
   "source": [
    "all_walks_model.most_similar('riboflavin')"
   ]
  },
  {
   "cell_type": "code",
   "execution_count": 75,
   "metadata": {
    "collapsed": false
   },
   "outputs": [
    {
     "data": {
      "text/plain": [
       "[(u'oxidase', 0.6209160685539246),\n",
       " (u'mesylate', 0.5538539290428162),\n",
       " (u'disrupt', 0.5318471193313599),\n",
       " (u'obtainable', 0.4978700280189514),\n",
       " (u'HDCBAP', 0.4869064390659332),\n",
       " (u'adenocarcinoma', 0.4666649401187897),\n",
       " (u'ATLD', 0.44243913888931274),\n",
       " (u'investigate', 0.43880578875541687),\n",
       " (u'responsive', 0.43829426169395447),\n",
       " (u'upregulation', 0.43542927503585815)]"
      ]
     },
     "execution_count": 75,
     "metadata": {},
     "output_type": "execute_result"
    }
   ],
   "source": [
    "all_walks_model.most_similar('bcr')"
   ]
  },
  {
   "cell_type": "code",
   "execution_count": 76,
   "metadata": {
    "collapsed": false
   },
   "outputs": [
    {
     "data": {
      "text/plain": [
       "[(u'frataxin', 0.6609944105148315),\n",
       " (u'encode', 0.6061965823173523),\n",
       " (u'scaffold', 0.548318088054657),\n",
       " (u'conserve', 0.5299305319786072),\n",
       " (u'CyaY', 0.5075977444648743),\n",
       " (u'TALE', 0.49336615204811096),\n",
       " (u'IRE', 0.48121076822280884),\n",
       " (u'accessory', 0.48034727573394775),\n",
       " (u'mitochondrial', 0.47782430052757263),\n",
       " (u'matrix', 0.4575484097003937)]"
      ]
     },
     "execution_count": 76,
     "metadata": {},
     "output_type": "execute_result"
    }
   ],
   "source": [
    "all_walks_model.most_similar('protein')"
   ]
  },
  {
   "cell_type": "code",
   "execution_count": 77,
   "metadata": {
    "collapsed": true
   },
   "outputs": [],
   "source": [
    "def colorgreen(iterable):\n",
    "    fmt_str = '<span style=\"color:red\">{}</span>'\n",
    "    return [fmt_str.format(elem) for elem in iterable]"
   ]
  },
  {
   "cell_type": "code",
   "execution_count": 78,
   "metadata": {
    "collapsed": false
   },
   "outputs": [],
   "source": [
    "df = pd.concat([pd.DataFrame.from_dict({key:zip(*all_walks_model.most_similar(key))[0] for \n",
    "                                        key in ['FXN', 'bcr', 'riboflavin',\n",
    "                                                                                  'oxidase','protein']}),\n",
    "          pd.DataFrame.from_dict({key+'Previous':zip(*model.most_similar(key))[0] for key in ['FXN', 'bcr', 'riboflavin',\n",
    "                                                                                   'oxidase', 'protein']})],\n",
    "         axis=1)"
   ]
  },
  {
   "cell_type": "code",
   "execution_count": 79,
   "metadata": {
    "collapsed": false
   },
   "outputs": [
    {
     "data": {
      "text/html": [
       "\n",
       "        <style  type=\"text/css\" >\n",
       "        \n",
       "        \n",
       "            #T_9863a89c_3317_11e6_a915_a0999b14c21frow0_col0 {\n",
       "            \n",
       "                background-color:  #64FE2E;\n",
       "            \n",
       "            }\n",
       "        \n",
       "            #T_9863a89c_3317_11e6_a915_a0999b14c21frow0_col1 {\n",
       "            \n",
       "                background-color:  orange;\n",
       "            \n",
       "            }\n",
       "        \n",
       "            #T_9863a89c_3317_11e6_a915_a0999b14c21frow0_col2 {\n",
       "            \n",
       "                background-color:  #64FE2E;\n",
       "            \n",
       "            }\n",
       "        \n",
       "            #T_9863a89c_3317_11e6_a915_a0999b14c21frow0_col3 {\n",
       "            \n",
       "                background-color:  orange;\n",
       "            \n",
       "            }\n",
       "        \n",
       "            #T_9863a89c_3317_11e6_a915_a0999b14c21frow0_col4 {\n",
       "            \n",
       "                background-color:  #64FE2E;\n",
       "            \n",
       "            }\n",
       "        \n",
       "            #T_9863a89c_3317_11e6_a915_a0999b14c21frow0_col5 {\n",
       "            \n",
       "                background-color:  orange;\n",
       "            \n",
       "            }\n",
       "        \n",
       "            #T_9863a89c_3317_11e6_a915_a0999b14c21frow0_col6 {\n",
       "            \n",
       "                background-color:  #64FE2E;\n",
       "            \n",
       "            }\n",
       "        \n",
       "            #T_9863a89c_3317_11e6_a915_a0999b14c21frow0_col7 {\n",
       "            \n",
       "                background-color:  orange;\n",
       "            \n",
       "            }\n",
       "        \n",
       "            #T_9863a89c_3317_11e6_a915_a0999b14c21frow0_col8 {\n",
       "            \n",
       "                background-color:  #64FE2E;\n",
       "            \n",
       "            }\n",
       "        \n",
       "            #T_9863a89c_3317_11e6_a915_a0999b14c21frow0_col9 {\n",
       "            \n",
       "                background-color:  orange;\n",
       "            \n",
       "            }\n",
       "        \n",
       "            #T_9863a89c_3317_11e6_a915_a0999b14c21frow1_col0 {\n",
       "            \n",
       "                background-color:  #64FE2E;\n",
       "            \n",
       "            }\n",
       "        \n",
       "            #T_9863a89c_3317_11e6_a915_a0999b14c21frow1_col1 {\n",
       "            \n",
       "                background-color:  orange;\n",
       "            \n",
       "            }\n",
       "        \n",
       "            #T_9863a89c_3317_11e6_a915_a0999b14c21frow1_col2 {\n",
       "            \n",
       "                background-color:  #64FE2E;\n",
       "            \n",
       "            }\n",
       "        \n",
       "            #T_9863a89c_3317_11e6_a915_a0999b14c21frow1_col3 {\n",
       "            \n",
       "                background-color:  orange;\n",
       "            \n",
       "            }\n",
       "        \n",
       "            #T_9863a89c_3317_11e6_a915_a0999b14c21frow1_col4 {\n",
       "            \n",
       "                background-color:  #64FE2E;\n",
       "            \n",
       "            }\n",
       "        \n",
       "            #T_9863a89c_3317_11e6_a915_a0999b14c21frow1_col5 {\n",
       "            \n",
       "                background-color:  orange;\n",
       "            \n",
       "            }\n",
       "        \n",
       "            #T_9863a89c_3317_11e6_a915_a0999b14c21frow1_col6 {\n",
       "            \n",
       "                background-color:  #64FE2E;\n",
       "            \n",
       "            }\n",
       "        \n",
       "            #T_9863a89c_3317_11e6_a915_a0999b14c21frow1_col7 {\n",
       "            \n",
       "                background-color:  orange;\n",
       "            \n",
       "            }\n",
       "        \n",
       "            #T_9863a89c_3317_11e6_a915_a0999b14c21frow1_col8 {\n",
       "            \n",
       "                background-color:  #64FE2E;\n",
       "            \n",
       "            }\n",
       "        \n",
       "            #T_9863a89c_3317_11e6_a915_a0999b14c21frow1_col9 {\n",
       "            \n",
       "                background-color:  orange;\n",
       "            \n",
       "            }\n",
       "        \n",
       "            #T_9863a89c_3317_11e6_a915_a0999b14c21frow2_col0 {\n",
       "            \n",
       "                background-color:  #64FE2E;\n",
       "            \n",
       "            }\n",
       "        \n",
       "            #T_9863a89c_3317_11e6_a915_a0999b14c21frow2_col1 {\n",
       "            \n",
       "                background-color:  orange;\n",
       "            \n",
       "            }\n",
       "        \n",
       "            #T_9863a89c_3317_11e6_a915_a0999b14c21frow2_col2 {\n",
       "            \n",
       "                background-color:  #64FE2E;\n",
       "            \n",
       "            }\n",
       "        \n",
       "            #T_9863a89c_3317_11e6_a915_a0999b14c21frow2_col3 {\n",
       "            \n",
       "                background-color:  orange;\n",
       "            \n",
       "            }\n",
       "        \n",
       "            #T_9863a89c_3317_11e6_a915_a0999b14c21frow2_col4 {\n",
       "            \n",
       "                background-color:  #64FE2E;\n",
       "            \n",
       "            }\n",
       "        \n",
       "            #T_9863a89c_3317_11e6_a915_a0999b14c21frow2_col5 {\n",
       "            \n",
       "                background-color:  orange;\n",
       "            \n",
       "            }\n",
       "        \n",
       "            #T_9863a89c_3317_11e6_a915_a0999b14c21frow2_col6 {\n",
       "            \n",
       "                background-color:  #64FE2E;\n",
       "            \n",
       "            }\n",
       "        \n",
       "            #T_9863a89c_3317_11e6_a915_a0999b14c21frow2_col7 {\n",
       "            \n",
       "                background-color:  orange;\n",
       "            \n",
       "            }\n",
       "        \n",
       "            #T_9863a89c_3317_11e6_a915_a0999b14c21frow2_col8 {\n",
       "            \n",
       "                background-color:  #64FE2E;\n",
       "            \n",
       "            }\n",
       "        \n",
       "            #T_9863a89c_3317_11e6_a915_a0999b14c21frow2_col9 {\n",
       "            \n",
       "                background-color:  orange;\n",
       "            \n",
       "            }\n",
       "        \n",
       "            #T_9863a89c_3317_11e6_a915_a0999b14c21frow3_col0 {\n",
       "            \n",
       "                background-color:  #64FE2E;\n",
       "            \n",
       "            }\n",
       "        \n",
       "            #T_9863a89c_3317_11e6_a915_a0999b14c21frow3_col1 {\n",
       "            \n",
       "                background-color:  orange;\n",
       "            \n",
       "            }\n",
       "        \n",
       "            #T_9863a89c_3317_11e6_a915_a0999b14c21frow3_col2 {\n",
       "            \n",
       "                background-color:  #64FE2E;\n",
       "            \n",
       "            }\n",
       "        \n",
       "            #T_9863a89c_3317_11e6_a915_a0999b14c21frow3_col3 {\n",
       "            \n",
       "                background-color:  orange;\n",
       "            \n",
       "            }\n",
       "        \n",
       "            #T_9863a89c_3317_11e6_a915_a0999b14c21frow3_col4 {\n",
       "            \n",
       "                background-color:  #64FE2E;\n",
       "            \n",
       "            }\n",
       "        \n",
       "            #T_9863a89c_3317_11e6_a915_a0999b14c21frow3_col5 {\n",
       "            \n",
       "                background-color:  orange;\n",
       "            \n",
       "            }\n",
       "        \n",
       "            #T_9863a89c_3317_11e6_a915_a0999b14c21frow3_col6 {\n",
       "            \n",
       "                background-color:  #64FE2E;\n",
       "            \n",
       "            }\n",
       "        \n",
       "            #T_9863a89c_3317_11e6_a915_a0999b14c21frow3_col7 {\n",
       "            \n",
       "                background-color:  orange;\n",
       "            \n",
       "            }\n",
       "        \n",
       "            #T_9863a89c_3317_11e6_a915_a0999b14c21frow3_col8 {\n",
       "            \n",
       "                background-color:  #64FE2E;\n",
       "            \n",
       "            }\n",
       "        \n",
       "            #T_9863a89c_3317_11e6_a915_a0999b14c21frow3_col9 {\n",
       "            \n",
       "                background-color:  orange;\n",
       "            \n",
       "            }\n",
       "        \n",
       "            #T_9863a89c_3317_11e6_a915_a0999b14c21frow4_col0 {\n",
       "            \n",
       "                background-color:  #64FE2E;\n",
       "            \n",
       "            }\n",
       "        \n",
       "            #T_9863a89c_3317_11e6_a915_a0999b14c21frow4_col1 {\n",
       "            \n",
       "                background-color:  orange;\n",
       "            \n",
       "            }\n",
       "        \n",
       "            #T_9863a89c_3317_11e6_a915_a0999b14c21frow4_col2 {\n",
       "            \n",
       "                background-color:  #64FE2E;\n",
       "            \n",
       "            }\n",
       "        \n",
       "            #T_9863a89c_3317_11e6_a915_a0999b14c21frow4_col3 {\n",
       "            \n",
       "                background-color:  orange;\n",
       "            \n",
       "            }\n",
       "        \n",
       "            #T_9863a89c_3317_11e6_a915_a0999b14c21frow4_col4 {\n",
       "            \n",
       "                background-color:  #64FE2E;\n",
       "            \n",
       "            }\n",
       "        \n",
       "            #T_9863a89c_3317_11e6_a915_a0999b14c21frow4_col5 {\n",
       "            \n",
       "                background-color:  orange;\n",
       "            \n",
       "            }\n",
       "        \n",
       "            #T_9863a89c_3317_11e6_a915_a0999b14c21frow4_col6 {\n",
       "            \n",
       "                background-color:  #64FE2E;\n",
       "            \n",
       "            }\n",
       "        \n",
       "            #T_9863a89c_3317_11e6_a915_a0999b14c21frow4_col7 {\n",
       "            \n",
       "                background-color:  orange;\n",
       "            \n",
       "            }\n",
       "        \n",
       "            #T_9863a89c_3317_11e6_a915_a0999b14c21frow4_col8 {\n",
       "            \n",
       "                background-color:  #64FE2E;\n",
       "            \n",
       "            }\n",
       "        \n",
       "            #T_9863a89c_3317_11e6_a915_a0999b14c21frow4_col9 {\n",
       "            \n",
       "                background-color:  orange;\n",
       "            \n",
       "            }\n",
       "        \n",
       "            #T_9863a89c_3317_11e6_a915_a0999b14c21frow5_col0 {\n",
       "            \n",
       "                background-color:  #64FE2E;\n",
       "            \n",
       "            }\n",
       "        \n",
       "            #T_9863a89c_3317_11e6_a915_a0999b14c21frow5_col1 {\n",
       "            \n",
       "                background-color:  orange;\n",
       "            \n",
       "            }\n",
       "        \n",
       "            #T_9863a89c_3317_11e6_a915_a0999b14c21frow5_col2 {\n",
       "            \n",
       "                background-color:  #64FE2E;\n",
       "            \n",
       "            }\n",
       "        \n",
       "            #T_9863a89c_3317_11e6_a915_a0999b14c21frow5_col3 {\n",
       "            \n",
       "                background-color:  orange;\n",
       "            \n",
       "            }\n",
       "        \n",
       "            #T_9863a89c_3317_11e6_a915_a0999b14c21frow5_col4 {\n",
       "            \n",
       "                background-color:  #64FE2E;\n",
       "            \n",
       "            }\n",
       "        \n",
       "            #T_9863a89c_3317_11e6_a915_a0999b14c21frow5_col5 {\n",
       "            \n",
       "                background-color:  orange;\n",
       "            \n",
       "            }\n",
       "        \n",
       "            #T_9863a89c_3317_11e6_a915_a0999b14c21frow5_col6 {\n",
       "            \n",
       "                background-color:  #64FE2E;\n",
       "            \n",
       "            }\n",
       "        \n",
       "            #T_9863a89c_3317_11e6_a915_a0999b14c21frow5_col7 {\n",
       "            \n",
       "                background-color:  orange;\n",
       "            \n",
       "            }\n",
       "        \n",
       "            #T_9863a89c_3317_11e6_a915_a0999b14c21frow5_col8 {\n",
       "            \n",
       "                background-color:  #64FE2E;\n",
       "            \n",
       "            }\n",
       "        \n",
       "            #T_9863a89c_3317_11e6_a915_a0999b14c21frow5_col9 {\n",
       "            \n",
       "                background-color:  orange;\n",
       "            \n",
       "            }\n",
       "        \n",
       "            #T_9863a89c_3317_11e6_a915_a0999b14c21frow6_col0 {\n",
       "            \n",
       "                background-color:  #64FE2E;\n",
       "            \n",
       "            }\n",
       "        \n",
       "            #T_9863a89c_3317_11e6_a915_a0999b14c21frow6_col1 {\n",
       "            \n",
       "                background-color:  orange;\n",
       "            \n",
       "            }\n",
       "        \n",
       "            #T_9863a89c_3317_11e6_a915_a0999b14c21frow6_col2 {\n",
       "            \n",
       "                background-color:  #64FE2E;\n",
       "            \n",
       "            }\n",
       "        \n",
       "            #T_9863a89c_3317_11e6_a915_a0999b14c21frow6_col3 {\n",
       "            \n",
       "                background-color:  orange;\n",
       "            \n",
       "            }\n",
       "        \n",
       "            #T_9863a89c_3317_11e6_a915_a0999b14c21frow6_col4 {\n",
       "            \n",
       "                background-color:  #64FE2E;\n",
       "            \n",
       "            }\n",
       "        \n",
       "            #T_9863a89c_3317_11e6_a915_a0999b14c21frow6_col5 {\n",
       "            \n",
       "                background-color:  orange;\n",
       "            \n",
       "            }\n",
       "        \n",
       "            #T_9863a89c_3317_11e6_a915_a0999b14c21frow6_col6 {\n",
       "            \n",
       "                background-color:  #64FE2E;\n",
       "            \n",
       "            }\n",
       "        \n",
       "            #T_9863a89c_3317_11e6_a915_a0999b14c21frow6_col7 {\n",
       "            \n",
       "                background-color:  orange;\n",
       "            \n",
       "            }\n",
       "        \n",
       "            #T_9863a89c_3317_11e6_a915_a0999b14c21frow6_col8 {\n",
       "            \n",
       "                background-color:  #64FE2E;\n",
       "            \n",
       "            }\n",
       "        \n",
       "            #T_9863a89c_3317_11e6_a915_a0999b14c21frow6_col9 {\n",
       "            \n",
       "                background-color:  orange;\n",
       "            \n",
       "            }\n",
       "        \n",
       "            #T_9863a89c_3317_11e6_a915_a0999b14c21frow7_col0 {\n",
       "            \n",
       "                background-color:  #64FE2E;\n",
       "            \n",
       "            }\n",
       "        \n",
       "            #T_9863a89c_3317_11e6_a915_a0999b14c21frow7_col1 {\n",
       "            \n",
       "                background-color:  orange;\n",
       "            \n",
       "            }\n",
       "        \n",
       "            #T_9863a89c_3317_11e6_a915_a0999b14c21frow7_col2 {\n",
       "            \n",
       "                background-color:  #64FE2E;\n",
       "            \n",
       "            }\n",
       "        \n",
       "            #T_9863a89c_3317_11e6_a915_a0999b14c21frow7_col3 {\n",
       "            \n",
       "                background-color:  orange;\n",
       "            \n",
       "            }\n",
       "        \n",
       "            #T_9863a89c_3317_11e6_a915_a0999b14c21frow7_col4 {\n",
       "            \n",
       "                background-color:  #64FE2E;\n",
       "            \n",
       "            }\n",
       "        \n",
       "            #T_9863a89c_3317_11e6_a915_a0999b14c21frow7_col5 {\n",
       "            \n",
       "                background-color:  orange;\n",
       "            \n",
       "            }\n",
       "        \n",
       "            #T_9863a89c_3317_11e6_a915_a0999b14c21frow7_col6 {\n",
       "            \n",
       "                background-color:  #64FE2E;\n",
       "            \n",
       "            }\n",
       "        \n",
       "            #T_9863a89c_3317_11e6_a915_a0999b14c21frow7_col7 {\n",
       "            \n",
       "                background-color:  orange;\n",
       "            \n",
       "            }\n",
       "        \n",
       "            #T_9863a89c_3317_11e6_a915_a0999b14c21frow7_col8 {\n",
       "            \n",
       "                background-color:  #64FE2E;\n",
       "            \n",
       "            }\n",
       "        \n",
       "            #T_9863a89c_3317_11e6_a915_a0999b14c21frow7_col9 {\n",
       "            \n",
       "                background-color:  orange;\n",
       "            \n",
       "            }\n",
       "        \n",
       "            #T_9863a89c_3317_11e6_a915_a0999b14c21frow8_col0 {\n",
       "            \n",
       "                background-color:  #64FE2E;\n",
       "            \n",
       "            }\n",
       "        \n",
       "            #T_9863a89c_3317_11e6_a915_a0999b14c21frow8_col1 {\n",
       "            \n",
       "                background-color:  orange;\n",
       "            \n",
       "            }\n",
       "        \n",
       "            #T_9863a89c_3317_11e6_a915_a0999b14c21frow8_col2 {\n",
       "            \n",
       "                background-color:  #64FE2E;\n",
       "            \n",
       "            }\n",
       "        \n",
       "            #T_9863a89c_3317_11e6_a915_a0999b14c21frow8_col3 {\n",
       "            \n",
       "                background-color:  orange;\n",
       "            \n",
       "            }\n",
       "        \n",
       "            #T_9863a89c_3317_11e6_a915_a0999b14c21frow8_col4 {\n",
       "            \n",
       "                background-color:  #64FE2E;\n",
       "            \n",
       "            }\n",
       "        \n",
       "            #T_9863a89c_3317_11e6_a915_a0999b14c21frow8_col5 {\n",
       "            \n",
       "                background-color:  orange;\n",
       "            \n",
       "            }\n",
       "        \n",
       "            #T_9863a89c_3317_11e6_a915_a0999b14c21frow8_col6 {\n",
       "            \n",
       "                background-color:  #64FE2E;\n",
       "            \n",
       "            }\n",
       "        \n",
       "            #T_9863a89c_3317_11e6_a915_a0999b14c21frow8_col7 {\n",
       "            \n",
       "                background-color:  orange;\n",
       "            \n",
       "            }\n",
       "        \n",
       "            #T_9863a89c_3317_11e6_a915_a0999b14c21frow8_col8 {\n",
       "            \n",
       "                background-color:  #64FE2E;\n",
       "            \n",
       "            }\n",
       "        \n",
       "            #T_9863a89c_3317_11e6_a915_a0999b14c21frow8_col9 {\n",
       "            \n",
       "                background-color:  orange;\n",
       "            \n",
       "            }\n",
       "        \n",
       "            #T_9863a89c_3317_11e6_a915_a0999b14c21frow9_col0 {\n",
       "            \n",
       "                background-color:  #64FE2E;\n",
       "            \n",
       "            }\n",
       "        \n",
       "            #T_9863a89c_3317_11e6_a915_a0999b14c21frow9_col1 {\n",
       "            \n",
       "                background-color:  orange;\n",
       "            \n",
       "            }\n",
       "        \n",
       "            #T_9863a89c_3317_11e6_a915_a0999b14c21frow9_col2 {\n",
       "            \n",
       "                background-color:  #64FE2E;\n",
       "            \n",
       "            }\n",
       "        \n",
       "            #T_9863a89c_3317_11e6_a915_a0999b14c21frow9_col3 {\n",
       "            \n",
       "                background-color:  orange;\n",
       "            \n",
       "            }\n",
       "        \n",
       "            #T_9863a89c_3317_11e6_a915_a0999b14c21frow9_col4 {\n",
       "            \n",
       "                background-color:  #64FE2E;\n",
       "            \n",
       "            }\n",
       "        \n",
       "            #T_9863a89c_3317_11e6_a915_a0999b14c21frow9_col5 {\n",
       "            \n",
       "                background-color:  orange;\n",
       "            \n",
       "            }\n",
       "        \n",
       "            #T_9863a89c_3317_11e6_a915_a0999b14c21frow9_col6 {\n",
       "            \n",
       "                background-color:  #64FE2E;\n",
       "            \n",
       "            }\n",
       "        \n",
       "            #T_9863a89c_3317_11e6_a915_a0999b14c21frow9_col7 {\n",
       "            \n",
       "                background-color:  orange;\n",
       "            \n",
       "            }\n",
       "        \n",
       "            #T_9863a89c_3317_11e6_a915_a0999b14c21frow9_col8 {\n",
       "            \n",
       "                background-color:  #64FE2E;\n",
       "            \n",
       "            }\n",
       "        \n",
       "            #T_9863a89c_3317_11e6_a915_a0999b14c21frow9_col9 {\n",
       "            \n",
       "                background-color:  orange;\n",
       "            \n",
       "            }\n",
       "        \n",
       "        </style>\n",
       "\n",
       "        <table id=\"T_9863a89c_3317_11e6_a915_a0999b14c21f\" None>\n",
       "        \n",
       "\n",
       "        <thead>\n",
       "            \n",
       "            <tr>\n",
       "                \n",
       "                <th class=\"blank\">\n",
       "                \n",
       "                <th class=\"col_heading level0 col0\">FXN\n",
       "                \n",
       "                <th class=\"col_heading level0 col1\">FXNPrevious\n",
       "                \n",
       "                <th class=\"col_heading level0 col2\">bcr\n",
       "                \n",
       "                <th class=\"col_heading level0 col3\">bcrPrevious\n",
       "                \n",
       "                <th class=\"col_heading level0 col4\">oxidase\n",
       "                \n",
       "                <th class=\"col_heading level0 col5\">oxidasePrevious\n",
       "                \n",
       "                <th class=\"col_heading level0 col6\">protein\n",
       "                \n",
       "                <th class=\"col_heading level0 col7\">proteinPrevious\n",
       "                \n",
       "                <th class=\"col_heading level0 col8\">riboflavin\n",
       "                \n",
       "                <th class=\"col_heading level0 col9\">riboflavinPrevious\n",
       "                \n",
       "            </tr>\n",
       "            \n",
       "        </thead>\n",
       "        <tbody>\n",
       "            \n",
       "            <tr>\n",
       "                \n",
       "                <th id=\"T_9863a89c_3317_11e6_a915_a0999b14c21f\" class=\"row_heading level9 row0\">\n",
       "                    \n",
       "                        0.0\n",
       "                    \n",
       "                \n",
       "                <td id=\"T_9863a89c_3317_11e6_a915_a0999b14c21frow0_col0\" class=\"data row0 col0\">\n",
       "                    \n",
       "                        encoding\n",
       "                    \n",
       "                \n",
       "                <td id=\"T_9863a89c_3317_11e6_a915_a0999b14c21frow0_col1\" class=\"data row0 col1\">\n",
       "                    \n",
       "                        gene\n",
       "                    \n",
       "                \n",
       "                <td id=\"T_9863a89c_3317_11e6_a915_a0999b14c21frow0_col2\" class=\"data row0 col2\">\n",
       "                    \n",
       "                        oxidase\n",
       "                    \n",
       "                \n",
       "                <td id=\"T_9863a89c_3317_11e6_a915_a0999b14c21frow0_col3\" class=\"data row0 col3\">\n",
       "                    \n",
       "                        growth\n",
       "                    \n",
       "                \n",
       "                <td id=\"T_9863a89c_3317_11e6_a915_a0999b14c21frow0_col4\" class=\"data row0 col4\">\n",
       "                    \n",
       "                        COX\n",
       "                    \n",
       "                \n",
       "                <td id=\"T_9863a89c_3317_11e6_a915_a0999b14c21frow0_col5\" class=\"data row0 col5\">\n",
       "                    \n",
       "                        regulate\n",
       "                    \n",
       "                \n",
       "                <td id=\"T_9863a89c_3317_11e6_a915_a0999b14c21frow0_col6\" class=\"data row0 col6\">\n",
       "                    \n",
       "                        frataxin\n",
       "                    \n",
       "                \n",
       "                <td id=\"T_9863a89c_3317_11e6_a915_a0999b14c21frow0_col7\" class=\"data row0 col7\">\n",
       "                    \n",
       "                        transfer\n",
       "                    \n",
       "                \n",
       "                <td id=\"T_9863a89c_3317_11e6_a915_a0999b14c21frow0_col8\" class=\"data row0 col8\">\n",
       "                    \n",
       "                        thiamin\n",
       "                    \n",
       "                \n",
       "                <td id=\"T_9863a89c_3317_11e6_a915_a0999b14c21frow0_col9\" class=\"data row0 col9\">\n",
       "                    \n",
       "                        classical\n",
       "                    \n",
       "                \n",
       "            </tr>\n",
       "            \n",
       "            <tr>\n",
       "                \n",
       "                <th id=\"T_9863a89c_3317_11e6_a915_a0999b14c21f\" class=\"row_heading level9 row1\">\n",
       "                    \n",
       "                        1.0\n",
       "                    \n",
       "                \n",
       "                <td id=\"T_9863a89c_3317_11e6_a915_a0999b14c21frow1_col0\" class=\"data row1 col0\">\n",
       "                    \n",
       "                        gene\n",
       "                    \n",
       "                \n",
       "                <td id=\"T_9863a89c_3317_11e6_a915_a0999b14c21frow1_col1\" class=\"data row1 col1\">\n",
       "                    \n",
       "                        transcription\n",
       "                    \n",
       "                \n",
       "                <td id=\"T_9863a89c_3317_11e6_a915_a0999b14c21frow1_col2\" class=\"data row1 col2\">\n",
       "                    \n",
       "                        mesylate\n",
       "                    \n",
       "                \n",
       "                <td id=\"T_9863a89c_3317_11e6_a915_a0999b14c21frow1_col3\" class=\"data row1 col3\">\n",
       "                    \n",
       "                        anaerobic\n",
       "                    \n",
       "                \n",
       "                <td id=\"T_9863a89c_3317_11e6_a915_a0999b14c21frow1_col4\" class=\"data row1 col4\">\n",
       "                    \n",
       "                        bcr\n",
       "                    \n",
       "                \n",
       "                <td id=\"T_9863a89c_3317_11e6_a915_a0999b14c21frow1_col5\" class=\"data row1 col5\">\n",
       "                    \n",
       "                        involve\n",
       "                    \n",
       "                \n",
       "                <td id=\"T_9863a89c_3317_11e6_a915_a0999b14c21frow1_col6\" class=\"data row1 col6\">\n",
       "                    \n",
       "                        encode\n",
       "                    \n",
       "                \n",
       "                <td id=\"T_9863a89c_3317_11e6_a915_a0999b14c21frow1_col7\" class=\"data row1 col7\">\n",
       "                    \n",
       "                        involve\n",
       "                    \n",
       "                \n",
       "                <td id=\"T_9863a89c_3317_11e6_a915_a0999b14c21frow1_col8\" class=\"data row1 col8\">\n",
       "                    \n",
       "                        carotene\n",
       "                    \n",
       "                \n",
       "                <td id=\"T_9863a89c_3317_11e6_a915_a0999b14c21frow1_col9\" class=\"data row1 col9\">\n",
       "                    \n",
       "                        ataxy\n",
       "                    \n",
       "                \n",
       "            </tr>\n",
       "            \n",
       "            <tr>\n",
       "                \n",
       "                <th id=\"T_9863a89c_3317_11e6_a915_a0999b14c21f\" class=\"row_heading level9 row2\">\n",
       "                    \n",
       "                        2.0\n",
       "                    \n",
       "                \n",
       "                <td id=\"T_9863a89c_3317_11e6_a915_a0999b14c21frow2_col0\" class=\"data row2 col0\">\n",
       "                    \n",
       "                        expression\n",
       "                    \n",
       "                \n",
       "                <td id=\"T_9863a89c_3317_11e6_a915_a0999b14c21frow2_col1\" class=\"data row2 col1\">\n",
       "                    \n",
       "                        silence\n",
       "                    \n",
       "                \n",
       "                <td id=\"T_9863a89c_3317_11e6_a915_a0999b14c21frow2_col2\" class=\"data row2 col2\">\n",
       "                    \n",
       "                        disrupt\n",
       "                    \n",
       "                \n",
       "                <td id=\"T_9863a89c_3317_11e6_a915_a0999b14c21frow2_col3\" class=\"data row2 col3\">\n",
       "                    \n",
       "                        aerobic\n",
       "                    \n",
       "                \n",
       "                <td id=\"T_9863a89c_3317_11e6_a915_a0999b14c21frow2_col4\" class=\"data row2 col4\">\n",
       "                    \n",
       "                        metallochaperone\n",
       "                    \n",
       "                \n",
       "                <td id=\"T_9863a89c_3317_11e6_a915_a0999b14c21frow2_col5\" class=\"data row2 col5\">\n",
       "                    \n",
       "                        regulation\n",
       "                    \n",
       "                \n",
       "                <td id=\"T_9863a89c_3317_11e6_a915_a0999b14c21frow2_col6\" class=\"data row2 col6\">\n",
       "                    \n",
       "                        scaffold\n",
       "                    \n",
       "                \n",
       "                <td id=\"T_9863a89c_3317_11e6_a915_a0999b14c21frow2_col7\" class=\"data row2 col7\">\n",
       "                    \n",
       "                        intermediate\n",
       "                    \n",
       "                \n",
       "                <td id=\"T_9863a89c_3317_11e6_a915_a0999b14c21frow2_col8\" class=\"data row2 col8\">\n",
       "                    \n",
       "                        folate\n",
       "                    \n",
       "                \n",
       "                <td id=\"T_9863a89c_3317_11e6_a915_a0999b14c21frow2_col9\" class=\"data row2 col9\">\n",
       "                    \n",
       "                        ataxia\n",
       "                    \n",
       "                \n",
       "            </tr>\n",
       "            \n",
       "            <tr>\n",
       "                \n",
       "                <th id=\"T_9863a89c_3317_11e6_a915_a0999b14c21f\" class=\"row_heading level9 row3\">\n",
       "                    \n",
       "                        3.0\n",
       "                    \n",
       "                \n",
       "                <td id=\"T_9863a89c_3317_11e6_a915_a0999b14c21frow3_col0\" class=\"data row3 col0\">\n",
       "                    \n",
       "                        intron\n",
       "                    \n",
       "                \n",
       "                <td id=\"T_9863a89c_3317_11e6_a915_a0999b14c21frow3_col1\" class=\"data row3 col1\">\n",
       "                    \n",
       "                        elongation\n",
       "                    \n",
       "                \n",
       "                <td id=\"T_9863a89c_3317_11e6_a915_a0999b14c21frow3_col2\" class=\"data row3 col2\">\n",
       "                    \n",
       "                        obtainable\n",
       "                    \n",
       "                \n",
       "                <td id=\"T_9863a89c_3317_11e6_a915_a0999b14c21frow3_col3\" class=\"data row3 col3\">\n",
       "                    \n",
       "                        property\n",
       "                    \n",
       "                \n",
       "                <td id=\"T_9863a89c_3317_11e6_a915_a0999b14c21frow3_col4\" class=\"data row3 col4\">\n",
       "                    \n",
       "                        handheld\n",
       "                    \n",
       "                \n",
       "                <td id=\"T_9863a89c_3317_11e6_a915_a0999b14c21frow3_col5\" class=\"data row3 col5\">\n",
       "                    \n",
       "                        isu\n",
       "                    \n",
       "                \n",
       "                <td id=\"T_9863a89c_3317_11e6_a915_a0999b14c21frow3_col6\" class=\"data row3 col6\">\n",
       "                    \n",
       "                        conserve\n",
       "                    \n",
       "                \n",
       "                <td id=\"T_9863a89c_3317_11e6_a915_a0999b14c21frow3_col7\" class=\"data row3 col7\">\n",
       "                    \n",
       "                        regulation\n",
       "                    \n",
       "                \n",
       "                <td id=\"T_9863a89c_3317_11e6_a915_a0999b14c21frow3_col8\" class=\"data row3 col8\">\n",
       "                    \n",
       "                        assess\n",
       "                    \n",
       "                \n",
       "                <td id=\"T_9863a89c_3317_11e6_a915_a0999b14c21frow3_col9\" class=\"data row3 col9\">\n",
       "                    \n",
       "                        myocardiopathy\n",
       "                    \n",
       "                \n",
       "            </tr>\n",
       "            \n",
       "            <tr>\n",
       "                \n",
       "                <th id=\"T_9863a89c_3317_11e6_a915_a0999b14c21f\" class=\"row_heading level9 row4\">\n",
       "                    \n",
       "                        4.0\n",
       "                    \n",
       "                \n",
       "                <td id=\"T_9863a89c_3317_11e6_a915_a0999b14c21frow4_col0\" class=\"data row4 col0\">\n",
       "                    \n",
       "                        frataxin\n",
       "                    \n",
       "                \n",
       "                <td id=\"T_9863a89c_3317_11e6_a915_a0999b14c21frow4_col1\" class=\"data row4 col1\">\n",
       "                    \n",
       "                        deletion\n",
       "                    \n",
       "                \n",
       "                <td id=\"T_9863a89c_3317_11e6_a915_a0999b14c21frow4_col2\" class=\"data row4 col2\">\n",
       "                    \n",
       "                        HDCBAP\n",
       "                    \n",
       "                \n",
       "                <td id=\"T_9863a89c_3317_11e6_a915_a0999b14c21frow4_col3\" class=\"data row4 col3\">\n",
       "                    \n",
       "                        cycle\n",
       "                    \n",
       "                \n",
       "                <td id=\"T_9863a89c_3317_11e6_a915_a0999b14c21frow4_col4\" class=\"data row4 col4\">\n",
       "                    \n",
       "                        upregulation\n",
       "                    \n",
       "                \n",
       "                <td id=\"T_9863a89c_3317_11e6_a915_a0999b14c21frow4_col5\" class=\"data row4 col5\">\n",
       "                    \n",
       "                        ATP\n",
       "                    \n",
       "                \n",
       "                <td id=\"T_9863a89c_3317_11e6_a915_a0999b14c21frow4_col6\" class=\"data row4 col6\">\n",
       "                    \n",
       "                        CyaY\n",
       "                    \n",
       "                \n",
       "                <td id=\"T_9863a89c_3317_11e6_a915_a0999b14c21frow4_col7\" class=\"data row4 col7\">\n",
       "                    \n",
       "                        regulate\n",
       "                    \n",
       "                \n",
       "                <td id=\"T_9863a89c_3317_11e6_a915_a0999b14c21frow4_col8\" class=\"data row4 col8\">\n",
       "                    \n",
       "                        histology\n",
       "                    \n",
       "                \n",
       "                <td id=\"T_9863a89c_3317_11e6_a915_a0999b14c21frow4_col9\" class=\"data row4 col9\">\n",
       "                    \n",
       "                        catecholamine\n",
       "                    \n",
       "                \n",
       "            </tr>\n",
       "            \n",
       "            <tr>\n",
       "                \n",
       "                <th id=\"T_9863a89c_3317_11e6_a915_a0999b14c21f\" class=\"row_heading level9 row5\">\n",
       "                    \n",
       "                        5.0\n",
       "                    \n",
       "                \n",
       "                <td id=\"T_9863a89c_3317_11e6_a915_a0999b14c21frow5_col0\" class=\"data row5 col0\">\n",
       "                    \n",
       "                        tat\n",
       "                    \n",
       "                \n",
       "                <td id=\"T_9863a89c_3317_11e6_a915_a0999b14c21frow5_col1\" class=\"data row5 col1\">\n",
       "                    \n",
       "                        silencing\n",
       "                    \n",
       "                \n",
       "                <td id=\"T_9863a89c_3317_11e6_a915_a0999b14c21frow5_col2\" class=\"data row5 col2\">\n",
       "                    \n",
       "                        adenocarcinoma\n",
       "                    \n",
       "                \n",
       "                <td id=\"T_9863a89c_3317_11e6_a915_a0999b14c21frow5_col3\" class=\"data row5 col3\">\n",
       "                    \n",
       "                        synthesize\n",
       "                    \n",
       "                \n",
       "                <td id=\"T_9863a89c_3317_11e6_a915_a0999b14c21frow5_col4\" class=\"data row5 col4\">\n",
       "                    \n",
       "                        destruction\n",
       "                    \n",
       "                \n",
       "                <td id=\"T_9863a89c_3317_11e6_a915_a0999b14c21frow5_col5\" class=\"data row5 col5\">\n",
       "                    \n",
       "                        transfer\n",
       "                    \n",
       "                \n",
       "                <td id=\"T_9863a89c_3317_11e6_a915_a0999b14c21frow5_col6\" class=\"data row5 col6\">\n",
       "                    \n",
       "                        TALE\n",
       "                    \n",
       "                \n",
       "                <td id=\"T_9863a89c_3317_11e6_a915_a0999b14c21frow5_col7\" class=\"data row5 col7\">\n",
       "                    \n",
       "                        cellular\n",
       "                    \n",
       "                \n",
       "                <td id=\"T_9863a89c_3317_11e6_a915_a0999b14c21frow5_col8\" class=\"data row5 col8\">\n",
       "                    \n",
       "                        OCT\n",
       "                    \n",
       "                \n",
       "                <td id=\"T_9863a89c_3317_11e6_a915_a0999b14c21frow5_col9\" class=\"data row5 col9\">\n",
       "                    \n",
       "                        quality\n",
       "                    \n",
       "                \n",
       "            </tr>\n",
       "            \n",
       "            <tr>\n",
       "                \n",
       "                <th id=\"T_9863a89c_3317_11e6_a915_a0999b14c21f\" class=\"row_heading level9 row6\">\n",
       "                    \n",
       "                        6.0\n",
       "                    \n",
       "                \n",
       "                <td id=\"T_9863a89c_3317_11e6_a915_a0999b14c21frow6_col0\" class=\"data row6 col0\">\n",
       "                    \n",
       "                        transgene\n",
       "                    \n",
       "                \n",
       "                <td id=\"T_9863a89c_3317_11e6_a915_a0999b14c21frow6_col1\" class=\"data row6 col1\">\n",
       "                    \n",
       "                        clone\n",
       "                    \n",
       "                \n",
       "                <td id=\"T_9863a89c_3317_11e6_a915_a0999b14c21frow6_col2\" class=\"data row6 col2\">\n",
       "                    \n",
       "                        ATLD\n",
       "                    \n",
       "                \n",
       "                <td id=\"T_9863a89c_3317_11e6_a915_a0999b14c21frow6_col3\" class=\"data row6 col3\">\n",
       "                    \n",
       "                        inducible\n",
       "                    \n",
       "                \n",
       "                <td id=\"T_9863a89c_3317_11e6_a915_a0999b14c21frow6_col4\" class=\"data row6 col4\">\n",
       "                    \n",
       "                        somedic\n",
       "                    \n",
       "                \n",
       "                <td id=\"T_9863a89c_3317_11e6_a915_a0999b14c21frow6_col5\" class=\"data row6 col5\">\n",
       "                    \n",
       "                        scaffold\n",
       "                    \n",
       "                \n",
       "                <td id=\"T_9863a89c_3317_11e6_a915_a0999b14c21frow6_col6\" class=\"data row6 col6\">\n",
       "                    \n",
       "                        IRE\n",
       "                    \n",
       "                \n",
       "                <td id=\"T_9863a89c_3317_11e6_a915_a0999b14c21frow6_col7\" class=\"data row6 col7\">\n",
       "                    \n",
       "                        import\n",
       "                    \n",
       "                \n",
       "                <td id=\"T_9863a89c_3317_11e6_a915_a0999b14c21frow6_col8\" class=\"data row6 col8\">\n",
       "                    \n",
       "                        register\n",
       "                    \n",
       "                \n",
       "                <td id=\"T_9863a89c_3317_11e6_a915_a0999b14c21frow6_col9\" class=\"data row6 col9\">\n",
       "                    \n",
       "                        nikolaus\n",
       "                    \n",
       "                \n",
       "            </tr>\n",
       "            \n",
       "            <tr>\n",
       "                \n",
       "                <th id=\"T_9863a89c_3317_11e6_a915_a0999b14c21f\" class=\"row_heading level9 row7\">\n",
       "                    \n",
       "                        7.0\n",
       "                    \n",
       "                \n",
       "                <td id=\"T_9863a89c_3317_11e6_a915_a0999b14c21frow7_col0\" class=\"data row7 col0\">\n",
       "                    \n",
       "                        MIPEP\n",
       "                    \n",
       "                \n",
       "                <td id=\"T_9863a89c_3317_11e6_a915_a0999b14c21frow7_col1\" class=\"data row7 col1\">\n",
       "                    \n",
       "                        exon\n",
       "                    \n",
       "                \n",
       "                <td id=\"T_9863a89c_3317_11e6_a915_a0999b14c21frow7_col2\" class=\"data row7 col2\">\n",
       "                    \n",
       "                        investigate\n",
       "                    \n",
       "                \n",
       "                <td id=\"T_9863a89c_3317_11e6_a915_a0999b14c21frow7_col3\" class=\"data row7 col3\">\n",
       "                    \n",
       "                        microscopy\n",
       "                    \n",
       "                \n",
       "                <td id=\"T_9863a89c_3317_11e6_a915_a0999b14c21frow7_col4\" class=\"data row7 col4\">\n",
       "                    \n",
       "                        gram\n",
       "                    \n",
       "                \n",
       "                <td id=\"T_9863a89c_3317_11e6_a915_a0999b14c21frow7_col5\" class=\"data row7 col5\">\n",
       "                    \n",
       "                        transferrin\n",
       "                    \n",
       "                \n",
       "                <td id=\"T_9863a89c_3317_11e6_a915_a0999b14c21frow7_col6\" class=\"data row7 col6\">\n",
       "                    \n",
       "                        accessory\n",
       "                    \n",
       "                \n",
       "                <td id=\"T_9863a89c_3317_11e6_a915_a0999b14c21frow7_col7\" class=\"data row7 col7\">\n",
       "                    \n",
       "                        frataxin\n",
       "                    \n",
       "                \n",
       "                <td id=\"T_9863a89c_3317_11e6_a915_a0999b14c21frow7_col8\" class=\"data row7 col8\">\n",
       "                    \n",
       "                        plus\n",
       "                    \n",
       "                \n",
       "                <td id=\"T_9863a89c_3317_11e6_a915_a0999b14c21frow7_col9\" class=\"data row7 col9\">\n",
       "                    \n",
       "                        involvement\n",
       "                    \n",
       "                \n",
       "            </tr>\n",
       "            \n",
       "            <tr>\n",
       "                \n",
       "                <th id=\"T_9863a89c_3317_11e6_a915_a0999b14c21f\" class=\"row_heading level9 row8\">\n",
       "                    \n",
       "                        8.0\n",
       "                    \n",
       "                \n",
       "                <td id=\"T_9863a89c_3317_11e6_a915_a0999b14c21frow8_col0\" class=\"data row8 col0\">\n",
       "                    \n",
       "                        silence\n",
       "                    \n",
       "                \n",
       "                <td id=\"T_9863a89c_3317_11e6_a915_a0999b14c21frow8_col1\" class=\"data row8 col1\">\n",
       "                    \n",
       "                        DNA\n",
       "                    \n",
       "                \n",
       "                <td id=\"T_9863a89c_3317_11e6_a915_a0999b14c21frow8_col2\" class=\"data row8 col2\">\n",
       "                    \n",
       "                        responsive\n",
       "                    \n",
       "                \n",
       "                <td id=\"T_9863a89c_3317_11e6_a915_a0999b14c21frow8_col3\" class=\"data row8 col3\">\n",
       "                    \n",
       "                        defense\n",
       "                    \n",
       "                \n",
       "                <td id=\"T_9863a89c_3317_11e6_a915_a0999b14c21frow8_col4\" class=\"data row8 col4\">\n",
       "                    \n",
       "                        myelinization\n",
       "                    \n",
       "                \n",
       "                <td id=\"T_9863a89c_3317_11e6_a915_a0999b14c21frow8_col5\" class=\"data row8 col5\">\n",
       "                    \n",
       "                        protein\n",
       "                    \n",
       "                \n",
       "                <td id=\"T_9863a89c_3317_11e6_a915_a0999b14c21frow8_col6\" class=\"data row8 col6\">\n",
       "                    \n",
       "                        mitochondrial\n",
       "                    \n",
       "                \n",
       "                <td id=\"T_9863a89c_3317_11e6_a915_a0999b14c21frow8_col7\" class=\"data row8 col7\">\n",
       "                    \n",
       "                        role\n",
       "                    \n",
       "                \n",
       "                <td id=\"T_9863a89c_3317_11e6_a915_a0999b14c21frow8_col8\" class=\"data row8 col8\">\n",
       "                    \n",
       "                        underestimate\n",
       "                    \n",
       "                \n",
       "                <td id=\"T_9863a89c_3317_11e6_a915_a0999b14c21frow8_col9\" class=\"data row8 col9\">\n",
       "                    \n",
       "                        survival\n",
       "                    \n",
       "                \n",
       "            </tr>\n",
       "            \n",
       "            <tr>\n",
       "                \n",
       "                <th id=\"T_9863a89c_3317_11e6_a915_a0999b14c21f\" class=\"row_heading level9 row9\">\n",
       "                    \n",
       "                        9.0\n",
       "                    \n",
       "                \n",
       "                <td id=\"T_9863a89c_3317_11e6_a915_a0999b14c21frow9_col0\" class=\"data row9 col0\">\n",
       "                    \n",
       "                        quantitation\n",
       "                    \n",
       "                \n",
       "                <td id=\"T_9863a89c_3317_11e6_a915_a0999b14c21frow9_col1\" class=\"data row9 col1\">\n",
       "                    \n",
       "                        repression\n",
       "                    \n",
       "                \n",
       "                <td id=\"T_9863a89c_3317_11e6_a915_a0999b14c21frow9_col2\" class=\"data row9 col2\">\n",
       "                    \n",
       "                        upregulation\n",
       "                    \n",
       "                \n",
       "                <td id=\"T_9863a89c_3317_11e6_a915_a0999b14c21frow9_col3\" class=\"data row9 col3\">\n",
       "                    \n",
       "                        maintain\n",
       "                    \n",
       "                \n",
       "                <td id=\"T_9863a89c_3317_11e6_a915_a0999b14c21frow9_col4\" class=\"data row9 col4\">\n",
       "                    \n",
       "                        vibrameter\n",
       "                    \n",
       "                \n",
       "                <td id=\"T_9863a89c_3317_11e6_a915_a0999b14c21frow9_col5\" class=\"data row9 col5\">\n",
       "                    \n",
       "                        defective\n",
       "                    \n",
       "                \n",
       "                <td id=\"T_9863a89c_3317_11e6_a915_a0999b14c21frow9_col6\" class=\"data row9 col6\">\n",
       "                    \n",
       "                        matrix\n",
       "                    \n",
       "                \n",
       "                <td id=\"T_9863a89c_3317_11e6_a915_a0999b14c21frow9_col7\" class=\"data row9 col7\">\n",
       "                    \n",
       "                        synthesis\n",
       "                    \n",
       "                \n",
       "                <td id=\"T_9863a89c_3317_11e6_a915_a0999b14c21frow9_col8\" class=\"data row9 col8\">\n",
       "                    \n",
       "                        adapt\n",
       "                    \n",
       "                \n",
       "                <td id=\"T_9863a89c_3317_11e6_a915_a0999b14c21frow9_col9\" class=\"data row9 col9\">\n",
       "                    \n",
       "                        dentate\n",
       "                    \n",
       "                \n",
       "            </tr>\n",
       "            \n",
       "        </tbody>\n",
       "        </table>\n",
       "        "
      ],
      "text/plain": [
       "<pandas.core.style.Styler at 0x11cbaa5d0>"
      ]
     },
     "execution_count": 79,
     "metadata": {},
     "output_type": "execute_result"
    }
   ],
   "source": [
    "df[df.columns.sort_values()].style.\\\n",
    "applymap(lambda values,axis: 'background-color: orange',\n",
    "                  axis=0, subset=['FXNPrevious','bcrPrevious','riboflavinPrevious','oxidasePrevious','proteinPrevious']).\\\n",
    "applymap(lambda values,axis:'background-color: #64FE2E',\n",
    "        axis=0, subset=['FXN', 'bcr', 'oxidase','protein','riboflavin'])"
   ]
  },
  {
   "cell_type": "code",
   "execution_count": 80,
   "metadata": {
    "collapsed": true
   },
   "outputs": [],
   "source": [
    "def color_changed(whole_df):\n",
    "    whole_df_ = whole_df.copy()\n",
    "    for key in ['FXN', 'bcr', 'oxidase','protein','riboflavin']:\n",
    "        whole_df_[key] = ''\n",
    "        whole_df_[key+'Previous'] = ''\n",
    "        for idx, elem in enumerate(whole_df[key]):\n",
    "            if not np.count_nonzero(elem==whole_df[key+'Previous']):\n",
    "                whole_df_.iloc[idx][key] = 'color: #DF01A5'\n",
    "    return whole_df_"
   ]
  },
  {
   "cell_type": "code",
   "execution_count": 81,
   "metadata": {
    "collapsed": false
   },
   "outputs": [
    {
     "data": {
      "text/html": [
       "\n",
       "        <style  type=\"text/css\" >\n",
       "        \n",
       "        \n",
       "            #T_9b55f18f_3317_11e6_bee4_a0999b14c21frow0_col0 {\n",
       "            \n",
       "                color:  #DF01A5;\n",
       "            \n",
       "            }\n",
       "        \n",
       "            #T_9b55f18f_3317_11e6_bee4_a0999b14c21frow0_col1 {\n",
       "            \n",
       "                : ;\n",
       "            \n",
       "                background-color:  #D8D8D8;\n",
       "            \n",
       "            }\n",
       "        \n",
       "            #T_9b55f18f_3317_11e6_bee4_a0999b14c21frow0_col2 {\n",
       "            \n",
       "                color:  #DF01A5;\n",
       "            \n",
       "            }\n",
       "        \n",
       "            #T_9b55f18f_3317_11e6_bee4_a0999b14c21frow0_col3 {\n",
       "            \n",
       "                : ;\n",
       "            \n",
       "                background-color:  #D8D8D8;\n",
       "            \n",
       "            }\n",
       "        \n",
       "            #T_9b55f18f_3317_11e6_bee4_a0999b14c21frow0_col4 {\n",
       "            \n",
       "                color:  #DF01A5;\n",
       "            \n",
       "            }\n",
       "        \n",
       "            #T_9b55f18f_3317_11e6_bee4_a0999b14c21frow0_col5 {\n",
       "            \n",
       "                : ;\n",
       "            \n",
       "                background-color:  #D8D8D8;\n",
       "            \n",
       "            }\n",
       "        \n",
       "            #T_9b55f18f_3317_11e6_bee4_a0999b14c21frow0_col7 {\n",
       "            \n",
       "                : ;\n",
       "            \n",
       "                background-color:  #D8D8D8;\n",
       "            \n",
       "            }\n",
       "        \n",
       "            #T_9b55f18f_3317_11e6_bee4_a0999b14c21frow0_col8 {\n",
       "            \n",
       "                color:  #DF01A5;\n",
       "            \n",
       "            }\n",
       "        \n",
       "            #T_9b55f18f_3317_11e6_bee4_a0999b14c21frow0_col9 {\n",
       "            \n",
       "                : ;\n",
       "            \n",
       "                background-color:  #D8D8D8;\n",
       "            \n",
       "            }\n",
       "        \n",
       "            #T_9b55f18f_3317_11e6_bee4_a0999b14c21frow1_col1 {\n",
       "            \n",
       "                : ;\n",
       "            \n",
       "                background-color:  #D8D8D8;\n",
       "            \n",
       "            }\n",
       "        \n",
       "            #T_9b55f18f_3317_11e6_bee4_a0999b14c21frow1_col2 {\n",
       "            \n",
       "                color:  #DF01A5;\n",
       "            \n",
       "            }\n",
       "        \n",
       "            #T_9b55f18f_3317_11e6_bee4_a0999b14c21frow1_col3 {\n",
       "            \n",
       "                : ;\n",
       "            \n",
       "                background-color:  #D8D8D8;\n",
       "            \n",
       "            }\n",
       "        \n",
       "            #T_9b55f18f_3317_11e6_bee4_a0999b14c21frow1_col4 {\n",
       "            \n",
       "                color:  #DF01A5;\n",
       "            \n",
       "            }\n",
       "        \n",
       "            #T_9b55f18f_3317_11e6_bee4_a0999b14c21frow1_col5 {\n",
       "            \n",
       "                : ;\n",
       "            \n",
       "                background-color:  #D8D8D8;\n",
       "            \n",
       "            }\n",
       "        \n",
       "            #T_9b55f18f_3317_11e6_bee4_a0999b14c21frow1_col6 {\n",
       "            \n",
       "                color:  #DF01A5;\n",
       "            \n",
       "            }\n",
       "        \n",
       "            #T_9b55f18f_3317_11e6_bee4_a0999b14c21frow1_col7 {\n",
       "            \n",
       "                : ;\n",
       "            \n",
       "                background-color:  #D8D8D8;\n",
       "            \n",
       "            }\n",
       "        \n",
       "            #T_9b55f18f_3317_11e6_bee4_a0999b14c21frow1_col8 {\n",
       "            \n",
       "                color:  #DF01A5;\n",
       "            \n",
       "            }\n",
       "        \n",
       "            #T_9b55f18f_3317_11e6_bee4_a0999b14c21frow1_col9 {\n",
       "            \n",
       "                : ;\n",
       "            \n",
       "                background-color:  #D8D8D8;\n",
       "            \n",
       "            }\n",
       "        \n",
       "            #T_9b55f18f_3317_11e6_bee4_a0999b14c21frow2_col0 {\n",
       "            \n",
       "                color:  #DF01A5;\n",
       "            \n",
       "            }\n",
       "        \n",
       "            #T_9b55f18f_3317_11e6_bee4_a0999b14c21frow2_col1 {\n",
       "            \n",
       "                : ;\n",
       "            \n",
       "                background-color:  #D8D8D8;\n",
       "            \n",
       "            }\n",
       "        \n",
       "            #T_9b55f18f_3317_11e6_bee4_a0999b14c21frow2_col2 {\n",
       "            \n",
       "                color:  #DF01A5;\n",
       "            \n",
       "            }\n",
       "        \n",
       "            #T_9b55f18f_3317_11e6_bee4_a0999b14c21frow2_col3 {\n",
       "            \n",
       "                : ;\n",
       "            \n",
       "                background-color:  #D8D8D8;\n",
       "            \n",
       "            }\n",
       "        \n",
       "            #T_9b55f18f_3317_11e6_bee4_a0999b14c21frow2_col4 {\n",
       "            \n",
       "                color:  #DF01A5;\n",
       "            \n",
       "            }\n",
       "        \n",
       "            #T_9b55f18f_3317_11e6_bee4_a0999b14c21frow2_col5 {\n",
       "            \n",
       "                : ;\n",
       "            \n",
       "                background-color:  #D8D8D8;\n",
       "            \n",
       "            }\n",
       "        \n",
       "            #T_9b55f18f_3317_11e6_bee4_a0999b14c21frow2_col6 {\n",
       "            \n",
       "                color:  #DF01A5;\n",
       "            \n",
       "            }\n",
       "        \n",
       "            #T_9b55f18f_3317_11e6_bee4_a0999b14c21frow2_col7 {\n",
       "            \n",
       "                : ;\n",
       "            \n",
       "                background-color:  #D8D8D8;\n",
       "            \n",
       "            }\n",
       "        \n",
       "            #T_9b55f18f_3317_11e6_bee4_a0999b14c21frow2_col8 {\n",
       "            \n",
       "                color:  #DF01A5;\n",
       "            \n",
       "            }\n",
       "        \n",
       "            #T_9b55f18f_3317_11e6_bee4_a0999b14c21frow2_col9 {\n",
       "            \n",
       "                : ;\n",
       "            \n",
       "                background-color:  #D8D8D8;\n",
       "            \n",
       "            }\n",
       "        \n",
       "            #T_9b55f18f_3317_11e6_bee4_a0999b14c21frow3_col0 {\n",
       "            \n",
       "                color:  #DF01A5;\n",
       "            \n",
       "            }\n",
       "        \n",
       "            #T_9b55f18f_3317_11e6_bee4_a0999b14c21frow3_col1 {\n",
       "            \n",
       "                : ;\n",
       "            \n",
       "                background-color:  #D8D8D8;\n",
       "            \n",
       "            }\n",
       "        \n",
       "            #T_9b55f18f_3317_11e6_bee4_a0999b14c21frow3_col2 {\n",
       "            \n",
       "                color:  #DF01A5;\n",
       "            \n",
       "            }\n",
       "        \n",
       "            #T_9b55f18f_3317_11e6_bee4_a0999b14c21frow3_col3 {\n",
       "            \n",
       "                : ;\n",
       "            \n",
       "                background-color:  #D8D8D8;\n",
       "            \n",
       "            }\n",
       "        \n",
       "            #T_9b55f18f_3317_11e6_bee4_a0999b14c21frow3_col4 {\n",
       "            \n",
       "                color:  #DF01A5;\n",
       "            \n",
       "            }\n",
       "        \n",
       "            #T_9b55f18f_3317_11e6_bee4_a0999b14c21frow3_col5 {\n",
       "            \n",
       "                : ;\n",
       "            \n",
       "                background-color:  #D8D8D8;\n",
       "            \n",
       "            }\n",
       "        \n",
       "            #T_9b55f18f_3317_11e6_bee4_a0999b14c21frow3_col6 {\n",
       "            \n",
       "                color:  #DF01A5;\n",
       "            \n",
       "            }\n",
       "        \n",
       "            #T_9b55f18f_3317_11e6_bee4_a0999b14c21frow3_col7 {\n",
       "            \n",
       "                : ;\n",
       "            \n",
       "                background-color:  #D8D8D8;\n",
       "            \n",
       "            }\n",
       "        \n",
       "            #T_9b55f18f_3317_11e6_bee4_a0999b14c21frow3_col8 {\n",
       "            \n",
       "                color:  #DF01A5;\n",
       "            \n",
       "            }\n",
       "        \n",
       "            #T_9b55f18f_3317_11e6_bee4_a0999b14c21frow3_col9 {\n",
       "            \n",
       "                : ;\n",
       "            \n",
       "                background-color:  #D8D8D8;\n",
       "            \n",
       "            }\n",
       "        \n",
       "            #T_9b55f18f_3317_11e6_bee4_a0999b14c21frow4_col0 {\n",
       "            \n",
       "                color:  #DF01A5;\n",
       "            \n",
       "            }\n",
       "        \n",
       "            #T_9b55f18f_3317_11e6_bee4_a0999b14c21frow4_col1 {\n",
       "            \n",
       "                : ;\n",
       "            \n",
       "                background-color:  #D8D8D8;\n",
       "            \n",
       "            }\n",
       "        \n",
       "            #T_9b55f18f_3317_11e6_bee4_a0999b14c21frow4_col2 {\n",
       "            \n",
       "                color:  #DF01A5;\n",
       "            \n",
       "            }\n",
       "        \n",
       "            #T_9b55f18f_3317_11e6_bee4_a0999b14c21frow4_col3 {\n",
       "            \n",
       "                : ;\n",
       "            \n",
       "                background-color:  #D8D8D8;\n",
       "            \n",
       "            }\n",
       "        \n",
       "            #T_9b55f18f_3317_11e6_bee4_a0999b14c21frow4_col4 {\n",
       "            \n",
       "                color:  #DF01A5;\n",
       "            \n",
       "            }\n",
       "        \n",
       "            #T_9b55f18f_3317_11e6_bee4_a0999b14c21frow4_col5 {\n",
       "            \n",
       "                : ;\n",
       "            \n",
       "                background-color:  #D8D8D8;\n",
       "            \n",
       "            }\n",
       "        \n",
       "            #T_9b55f18f_3317_11e6_bee4_a0999b14c21frow4_col6 {\n",
       "            \n",
       "                color:  #DF01A5;\n",
       "            \n",
       "            }\n",
       "        \n",
       "            #T_9b55f18f_3317_11e6_bee4_a0999b14c21frow4_col7 {\n",
       "            \n",
       "                : ;\n",
       "            \n",
       "                background-color:  #D8D8D8;\n",
       "            \n",
       "            }\n",
       "        \n",
       "            #T_9b55f18f_3317_11e6_bee4_a0999b14c21frow4_col8 {\n",
       "            \n",
       "                color:  #DF01A5;\n",
       "            \n",
       "            }\n",
       "        \n",
       "            #T_9b55f18f_3317_11e6_bee4_a0999b14c21frow4_col9 {\n",
       "            \n",
       "                : ;\n",
       "            \n",
       "                background-color:  #D8D8D8;\n",
       "            \n",
       "            }\n",
       "        \n",
       "            #T_9b55f18f_3317_11e6_bee4_a0999b14c21frow5_col0 {\n",
       "            \n",
       "                color:  #DF01A5;\n",
       "            \n",
       "            }\n",
       "        \n",
       "            #T_9b55f18f_3317_11e6_bee4_a0999b14c21frow5_col1 {\n",
       "            \n",
       "                : ;\n",
       "            \n",
       "                background-color:  #D8D8D8;\n",
       "            \n",
       "            }\n",
       "        \n",
       "            #T_9b55f18f_3317_11e6_bee4_a0999b14c21frow5_col2 {\n",
       "            \n",
       "                color:  #DF01A5;\n",
       "            \n",
       "            }\n",
       "        \n",
       "            #T_9b55f18f_3317_11e6_bee4_a0999b14c21frow5_col3 {\n",
       "            \n",
       "                : ;\n",
       "            \n",
       "                background-color:  #D8D8D8;\n",
       "            \n",
       "            }\n",
       "        \n",
       "            #T_9b55f18f_3317_11e6_bee4_a0999b14c21frow5_col4 {\n",
       "            \n",
       "                color:  #DF01A5;\n",
       "            \n",
       "            }\n",
       "        \n",
       "            #T_9b55f18f_3317_11e6_bee4_a0999b14c21frow5_col5 {\n",
       "            \n",
       "                : ;\n",
       "            \n",
       "                background-color:  #D8D8D8;\n",
       "            \n",
       "            }\n",
       "        \n",
       "            #T_9b55f18f_3317_11e6_bee4_a0999b14c21frow5_col6 {\n",
       "            \n",
       "                color:  #DF01A5;\n",
       "            \n",
       "            }\n",
       "        \n",
       "            #T_9b55f18f_3317_11e6_bee4_a0999b14c21frow5_col7 {\n",
       "            \n",
       "                : ;\n",
       "            \n",
       "                background-color:  #D8D8D8;\n",
       "            \n",
       "            }\n",
       "        \n",
       "            #T_9b55f18f_3317_11e6_bee4_a0999b14c21frow5_col8 {\n",
       "            \n",
       "                color:  #DF01A5;\n",
       "            \n",
       "            }\n",
       "        \n",
       "            #T_9b55f18f_3317_11e6_bee4_a0999b14c21frow5_col9 {\n",
       "            \n",
       "                : ;\n",
       "            \n",
       "                background-color:  #D8D8D8;\n",
       "            \n",
       "            }\n",
       "        \n",
       "            #T_9b55f18f_3317_11e6_bee4_a0999b14c21frow6_col0 {\n",
       "            \n",
       "                color:  #DF01A5;\n",
       "            \n",
       "            }\n",
       "        \n",
       "            #T_9b55f18f_3317_11e6_bee4_a0999b14c21frow6_col1 {\n",
       "            \n",
       "                : ;\n",
       "            \n",
       "                background-color:  #D8D8D8;\n",
       "            \n",
       "            }\n",
       "        \n",
       "            #T_9b55f18f_3317_11e6_bee4_a0999b14c21frow6_col2 {\n",
       "            \n",
       "                color:  #DF01A5;\n",
       "            \n",
       "            }\n",
       "        \n",
       "            #T_9b55f18f_3317_11e6_bee4_a0999b14c21frow6_col3 {\n",
       "            \n",
       "                : ;\n",
       "            \n",
       "                background-color:  #D8D8D8;\n",
       "            \n",
       "            }\n",
       "        \n",
       "            #T_9b55f18f_3317_11e6_bee4_a0999b14c21frow6_col4 {\n",
       "            \n",
       "                color:  #DF01A5;\n",
       "            \n",
       "            }\n",
       "        \n",
       "            #T_9b55f18f_3317_11e6_bee4_a0999b14c21frow6_col5 {\n",
       "            \n",
       "                : ;\n",
       "            \n",
       "                background-color:  #D8D8D8;\n",
       "            \n",
       "            }\n",
       "        \n",
       "            #T_9b55f18f_3317_11e6_bee4_a0999b14c21frow6_col6 {\n",
       "            \n",
       "                color:  #DF01A5;\n",
       "            \n",
       "            }\n",
       "        \n",
       "            #T_9b55f18f_3317_11e6_bee4_a0999b14c21frow6_col7 {\n",
       "            \n",
       "                : ;\n",
       "            \n",
       "                background-color:  #D8D8D8;\n",
       "            \n",
       "            }\n",
       "        \n",
       "            #T_9b55f18f_3317_11e6_bee4_a0999b14c21frow6_col8 {\n",
       "            \n",
       "                color:  #DF01A5;\n",
       "            \n",
       "            }\n",
       "        \n",
       "            #T_9b55f18f_3317_11e6_bee4_a0999b14c21frow6_col9 {\n",
       "            \n",
       "                : ;\n",
       "            \n",
       "                background-color:  #D8D8D8;\n",
       "            \n",
       "            }\n",
       "        \n",
       "            #T_9b55f18f_3317_11e6_bee4_a0999b14c21frow7_col0 {\n",
       "            \n",
       "                color:  #DF01A5;\n",
       "            \n",
       "            }\n",
       "        \n",
       "            #T_9b55f18f_3317_11e6_bee4_a0999b14c21frow7_col1 {\n",
       "            \n",
       "                : ;\n",
       "            \n",
       "                background-color:  #D8D8D8;\n",
       "            \n",
       "            }\n",
       "        \n",
       "            #T_9b55f18f_3317_11e6_bee4_a0999b14c21frow7_col2 {\n",
       "            \n",
       "                color:  #DF01A5;\n",
       "            \n",
       "            }\n",
       "        \n",
       "            #T_9b55f18f_3317_11e6_bee4_a0999b14c21frow7_col3 {\n",
       "            \n",
       "                : ;\n",
       "            \n",
       "                background-color:  #D8D8D8;\n",
       "            \n",
       "            }\n",
       "        \n",
       "            #T_9b55f18f_3317_11e6_bee4_a0999b14c21frow7_col4 {\n",
       "            \n",
       "                color:  #DF01A5;\n",
       "            \n",
       "            }\n",
       "        \n",
       "            #T_9b55f18f_3317_11e6_bee4_a0999b14c21frow7_col5 {\n",
       "            \n",
       "                : ;\n",
       "            \n",
       "                background-color:  #D8D8D8;\n",
       "            \n",
       "            }\n",
       "        \n",
       "            #T_9b55f18f_3317_11e6_bee4_a0999b14c21frow7_col6 {\n",
       "            \n",
       "                color:  #DF01A5;\n",
       "            \n",
       "            }\n",
       "        \n",
       "            #T_9b55f18f_3317_11e6_bee4_a0999b14c21frow7_col7 {\n",
       "            \n",
       "                : ;\n",
       "            \n",
       "                background-color:  #D8D8D8;\n",
       "            \n",
       "            }\n",
       "        \n",
       "            #T_9b55f18f_3317_11e6_bee4_a0999b14c21frow7_col8 {\n",
       "            \n",
       "                color:  #DF01A5;\n",
       "            \n",
       "            }\n",
       "        \n",
       "            #T_9b55f18f_3317_11e6_bee4_a0999b14c21frow7_col9 {\n",
       "            \n",
       "                : ;\n",
       "            \n",
       "                background-color:  #D8D8D8;\n",
       "            \n",
       "            }\n",
       "        \n",
       "            #T_9b55f18f_3317_11e6_bee4_a0999b14c21frow8_col1 {\n",
       "            \n",
       "                : ;\n",
       "            \n",
       "                background-color:  #D8D8D8;\n",
       "            \n",
       "            }\n",
       "        \n",
       "            #T_9b55f18f_3317_11e6_bee4_a0999b14c21frow8_col2 {\n",
       "            \n",
       "                color:  #DF01A5;\n",
       "            \n",
       "            }\n",
       "        \n",
       "            #T_9b55f18f_3317_11e6_bee4_a0999b14c21frow8_col3 {\n",
       "            \n",
       "                : ;\n",
       "            \n",
       "                background-color:  #D8D8D8;\n",
       "            \n",
       "            }\n",
       "        \n",
       "            #T_9b55f18f_3317_11e6_bee4_a0999b14c21frow8_col4 {\n",
       "            \n",
       "                color:  #DF01A5;\n",
       "            \n",
       "            }\n",
       "        \n",
       "            #T_9b55f18f_3317_11e6_bee4_a0999b14c21frow8_col5 {\n",
       "            \n",
       "                : ;\n",
       "            \n",
       "                background-color:  #D8D8D8;\n",
       "            \n",
       "            }\n",
       "        \n",
       "            #T_9b55f18f_3317_11e6_bee4_a0999b14c21frow8_col6 {\n",
       "            \n",
       "                color:  #DF01A5;\n",
       "            \n",
       "            }\n",
       "        \n",
       "            #T_9b55f18f_3317_11e6_bee4_a0999b14c21frow8_col7 {\n",
       "            \n",
       "                : ;\n",
       "            \n",
       "                background-color:  #D8D8D8;\n",
       "            \n",
       "            }\n",
       "        \n",
       "            #T_9b55f18f_3317_11e6_bee4_a0999b14c21frow8_col8 {\n",
       "            \n",
       "                color:  #DF01A5;\n",
       "            \n",
       "            }\n",
       "        \n",
       "            #T_9b55f18f_3317_11e6_bee4_a0999b14c21frow8_col9 {\n",
       "            \n",
       "                : ;\n",
       "            \n",
       "                background-color:  #D8D8D8;\n",
       "            \n",
       "            }\n",
       "        \n",
       "            #T_9b55f18f_3317_11e6_bee4_a0999b14c21frow9_col0 {\n",
       "            \n",
       "                color:  #DF01A5;\n",
       "            \n",
       "            }\n",
       "        \n",
       "            #T_9b55f18f_3317_11e6_bee4_a0999b14c21frow9_col1 {\n",
       "            \n",
       "                : ;\n",
       "            \n",
       "                background-color:  #D8D8D8;\n",
       "            \n",
       "            }\n",
       "        \n",
       "            #T_9b55f18f_3317_11e6_bee4_a0999b14c21frow9_col2 {\n",
       "            \n",
       "                color:  #DF01A5;\n",
       "            \n",
       "            }\n",
       "        \n",
       "            #T_9b55f18f_3317_11e6_bee4_a0999b14c21frow9_col3 {\n",
       "            \n",
       "                : ;\n",
       "            \n",
       "                background-color:  #D8D8D8;\n",
       "            \n",
       "            }\n",
       "        \n",
       "            #T_9b55f18f_3317_11e6_bee4_a0999b14c21frow9_col4 {\n",
       "            \n",
       "                color:  #DF01A5;\n",
       "            \n",
       "            }\n",
       "        \n",
       "            #T_9b55f18f_3317_11e6_bee4_a0999b14c21frow9_col5 {\n",
       "            \n",
       "                : ;\n",
       "            \n",
       "                background-color:  #D8D8D8;\n",
       "            \n",
       "            }\n",
       "        \n",
       "            #T_9b55f18f_3317_11e6_bee4_a0999b14c21frow9_col6 {\n",
       "            \n",
       "                color:  #DF01A5;\n",
       "            \n",
       "            }\n",
       "        \n",
       "            #T_9b55f18f_3317_11e6_bee4_a0999b14c21frow9_col7 {\n",
       "            \n",
       "                : ;\n",
       "            \n",
       "                background-color:  #D8D8D8;\n",
       "            \n",
       "            }\n",
       "        \n",
       "            #T_9b55f18f_3317_11e6_bee4_a0999b14c21frow9_col8 {\n",
       "            \n",
       "                color:  #DF01A5;\n",
       "            \n",
       "            }\n",
       "        \n",
       "            #T_9b55f18f_3317_11e6_bee4_a0999b14c21frow9_col9 {\n",
       "            \n",
       "                : ;\n",
       "            \n",
       "                background-color:  #D8D8D8;\n",
       "            \n",
       "            }\n",
       "        \n",
       "        </style>\n",
       "\n",
       "        <table id=\"T_9b55f18f_3317_11e6_bee4_a0999b14c21f\" None>\n",
       "        \n",
       "\n",
       "        <thead>\n",
       "            \n",
       "            <tr>\n",
       "                \n",
       "                <th class=\"blank\">\n",
       "                \n",
       "                <th class=\"col_heading level0 col0\">FXN\n",
       "                \n",
       "                <th class=\"col_heading level0 col1\">FXNPrevious\n",
       "                \n",
       "                <th class=\"col_heading level0 col2\">bcr\n",
       "                \n",
       "                <th class=\"col_heading level0 col3\">bcrPrevious\n",
       "                \n",
       "                <th class=\"col_heading level0 col4\">oxidase\n",
       "                \n",
       "                <th class=\"col_heading level0 col5\">oxidasePrevious\n",
       "                \n",
       "                <th class=\"col_heading level0 col6\">protein\n",
       "                \n",
       "                <th class=\"col_heading level0 col7\">proteinPrevious\n",
       "                \n",
       "                <th class=\"col_heading level0 col8\">riboflavin\n",
       "                \n",
       "                <th class=\"col_heading level0 col9\">riboflavinPrevious\n",
       "                \n",
       "            </tr>\n",
       "            \n",
       "        </thead>\n",
       "        <tbody>\n",
       "            \n",
       "            <tr>\n",
       "                \n",
       "                <th id=\"T_9b55f18f_3317_11e6_bee4_a0999b14c21f\" class=\"row_heading level9 row0\">\n",
       "                    \n",
       "                        0.0\n",
       "                    \n",
       "                \n",
       "                <td id=\"T_9b55f18f_3317_11e6_bee4_a0999b14c21frow0_col0\" class=\"data row0 col0\">\n",
       "                    \n",
       "                        encoding\n",
       "                    \n",
       "                \n",
       "                <td id=\"T_9b55f18f_3317_11e6_bee4_a0999b14c21frow0_col1\" class=\"data row0 col1\">\n",
       "                    \n",
       "                        gene\n",
       "                    \n",
       "                \n",
       "                <td id=\"T_9b55f18f_3317_11e6_bee4_a0999b14c21frow0_col2\" class=\"data row0 col2\">\n",
       "                    \n",
       "                        oxidase\n",
       "                    \n",
       "                \n",
       "                <td id=\"T_9b55f18f_3317_11e6_bee4_a0999b14c21frow0_col3\" class=\"data row0 col3\">\n",
       "                    \n",
       "                        growth\n",
       "                    \n",
       "                \n",
       "                <td id=\"T_9b55f18f_3317_11e6_bee4_a0999b14c21frow0_col4\" class=\"data row0 col4\">\n",
       "                    \n",
       "                        COX\n",
       "                    \n",
       "                \n",
       "                <td id=\"T_9b55f18f_3317_11e6_bee4_a0999b14c21frow0_col5\" class=\"data row0 col5\">\n",
       "                    \n",
       "                        regulate\n",
       "                    \n",
       "                \n",
       "                <td id=\"T_9b55f18f_3317_11e6_bee4_a0999b14c21frow0_col6\" class=\"data row0 col6\">\n",
       "                    \n",
       "                        frataxin\n",
       "                    \n",
       "                \n",
       "                <td id=\"T_9b55f18f_3317_11e6_bee4_a0999b14c21frow0_col7\" class=\"data row0 col7\">\n",
       "                    \n",
       "                        transfer\n",
       "                    \n",
       "                \n",
       "                <td id=\"T_9b55f18f_3317_11e6_bee4_a0999b14c21frow0_col8\" class=\"data row0 col8\">\n",
       "                    \n",
       "                        thiamin\n",
       "                    \n",
       "                \n",
       "                <td id=\"T_9b55f18f_3317_11e6_bee4_a0999b14c21frow0_col9\" class=\"data row0 col9\">\n",
       "                    \n",
       "                        classical\n",
       "                    \n",
       "                \n",
       "            </tr>\n",
       "            \n",
       "            <tr>\n",
       "                \n",
       "                <th id=\"T_9b55f18f_3317_11e6_bee4_a0999b14c21f\" class=\"row_heading level9 row1\">\n",
       "                    \n",
       "                        1.0\n",
       "                    \n",
       "                \n",
       "                <td id=\"T_9b55f18f_3317_11e6_bee4_a0999b14c21frow1_col0\" class=\"data row1 col0\">\n",
       "                    \n",
       "                        gene\n",
       "                    \n",
       "                \n",
       "                <td id=\"T_9b55f18f_3317_11e6_bee4_a0999b14c21frow1_col1\" class=\"data row1 col1\">\n",
       "                    \n",
       "                        transcription\n",
       "                    \n",
       "                \n",
       "                <td id=\"T_9b55f18f_3317_11e6_bee4_a0999b14c21frow1_col2\" class=\"data row1 col2\">\n",
       "                    \n",
       "                        mesylate\n",
       "                    \n",
       "                \n",
       "                <td id=\"T_9b55f18f_3317_11e6_bee4_a0999b14c21frow1_col3\" class=\"data row1 col3\">\n",
       "                    \n",
       "                        anaerobic\n",
       "                    \n",
       "                \n",
       "                <td id=\"T_9b55f18f_3317_11e6_bee4_a0999b14c21frow1_col4\" class=\"data row1 col4\">\n",
       "                    \n",
       "                        bcr\n",
       "                    \n",
       "                \n",
       "                <td id=\"T_9b55f18f_3317_11e6_bee4_a0999b14c21frow1_col5\" class=\"data row1 col5\">\n",
       "                    \n",
       "                        involve\n",
       "                    \n",
       "                \n",
       "                <td id=\"T_9b55f18f_3317_11e6_bee4_a0999b14c21frow1_col6\" class=\"data row1 col6\">\n",
       "                    \n",
       "                        encode\n",
       "                    \n",
       "                \n",
       "                <td id=\"T_9b55f18f_3317_11e6_bee4_a0999b14c21frow1_col7\" class=\"data row1 col7\">\n",
       "                    \n",
       "                        involve\n",
       "                    \n",
       "                \n",
       "                <td id=\"T_9b55f18f_3317_11e6_bee4_a0999b14c21frow1_col8\" class=\"data row1 col8\">\n",
       "                    \n",
       "                        carotene\n",
       "                    \n",
       "                \n",
       "                <td id=\"T_9b55f18f_3317_11e6_bee4_a0999b14c21frow1_col9\" class=\"data row1 col9\">\n",
       "                    \n",
       "                        ataxy\n",
       "                    \n",
       "                \n",
       "            </tr>\n",
       "            \n",
       "            <tr>\n",
       "                \n",
       "                <th id=\"T_9b55f18f_3317_11e6_bee4_a0999b14c21f\" class=\"row_heading level9 row2\">\n",
       "                    \n",
       "                        2.0\n",
       "                    \n",
       "                \n",
       "                <td id=\"T_9b55f18f_3317_11e6_bee4_a0999b14c21frow2_col0\" class=\"data row2 col0\">\n",
       "                    \n",
       "                        expression\n",
       "                    \n",
       "                \n",
       "                <td id=\"T_9b55f18f_3317_11e6_bee4_a0999b14c21frow2_col1\" class=\"data row2 col1\">\n",
       "                    \n",
       "                        silence\n",
       "                    \n",
       "                \n",
       "                <td id=\"T_9b55f18f_3317_11e6_bee4_a0999b14c21frow2_col2\" class=\"data row2 col2\">\n",
       "                    \n",
       "                        disrupt\n",
       "                    \n",
       "                \n",
       "                <td id=\"T_9b55f18f_3317_11e6_bee4_a0999b14c21frow2_col3\" class=\"data row2 col3\">\n",
       "                    \n",
       "                        aerobic\n",
       "                    \n",
       "                \n",
       "                <td id=\"T_9b55f18f_3317_11e6_bee4_a0999b14c21frow2_col4\" class=\"data row2 col4\">\n",
       "                    \n",
       "                        metallochaperone\n",
       "                    \n",
       "                \n",
       "                <td id=\"T_9b55f18f_3317_11e6_bee4_a0999b14c21frow2_col5\" class=\"data row2 col5\">\n",
       "                    \n",
       "                        regulation\n",
       "                    \n",
       "                \n",
       "                <td id=\"T_9b55f18f_3317_11e6_bee4_a0999b14c21frow2_col6\" class=\"data row2 col6\">\n",
       "                    \n",
       "                        scaffold\n",
       "                    \n",
       "                \n",
       "                <td id=\"T_9b55f18f_3317_11e6_bee4_a0999b14c21frow2_col7\" class=\"data row2 col7\">\n",
       "                    \n",
       "                        intermediate\n",
       "                    \n",
       "                \n",
       "                <td id=\"T_9b55f18f_3317_11e6_bee4_a0999b14c21frow2_col8\" class=\"data row2 col8\">\n",
       "                    \n",
       "                        folate\n",
       "                    \n",
       "                \n",
       "                <td id=\"T_9b55f18f_3317_11e6_bee4_a0999b14c21frow2_col9\" class=\"data row2 col9\">\n",
       "                    \n",
       "                        ataxia\n",
       "                    \n",
       "                \n",
       "            </tr>\n",
       "            \n",
       "            <tr>\n",
       "                \n",
       "                <th id=\"T_9b55f18f_3317_11e6_bee4_a0999b14c21f\" class=\"row_heading level9 row3\">\n",
       "                    \n",
       "                        3.0\n",
       "                    \n",
       "                \n",
       "                <td id=\"T_9b55f18f_3317_11e6_bee4_a0999b14c21frow3_col0\" class=\"data row3 col0\">\n",
       "                    \n",
       "                        intron\n",
       "                    \n",
       "                \n",
       "                <td id=\"T_9b55f18f_3317_11e6_bee4_a0999b14c21frow3_col1\" class=\"data row3 col1\">\n",
       "                    \n",
       "                        elongation\n",
       "                    \n",
       "                \n",
       "                <td id=\"T_9b55f18f_3317_11e6_bee4_a0999b14c21frow3_col2\" class=\"data row3 col2\">\n",
       "                    \n",
       "                        obtainable\n",
       "                    \n",
       "                \n",
       "                <td id=\"T_9b55f18f_3317_11e6_bee4_a0999b14c21frow3_col3\" class=\"data row3 col3\">\n",
       "                    \n",
       "                        property\n",
       "                    \n",
       "                \n",
       "                <td id=\"T_9b55f18f_3317_11e6_bee4_a0999b14c21frow3_col4\" class=\"data row3 col4\">\n",
       "                    \n",
       "                        handheld\n",
       "                    \n",
       "                \n",
       "                <td id=\"T_9b55f18f_3317_11e6_bee4_a0999b14c21frow3_col5\" class=\"data row3 col5\">\n",
       "                    \n",
       "                        isu\n",
       "                    \n",
       "                \n",
       "                <td id=\"T_9b55f18f_3317_11e6_bee4_a0999b14c21frow3_col6\" class=\"data row3 col6\">\n",
       "                    \n",
       "                        conserve\n",
       "                    \n",
       "                \n",
       "                <td id=\"T_9b55f18f_3317_11e6_bee4_a0999b14c21frow3_col7\" class=\"data row3 col7\">\n",
       "                    \n",
       "                        regulation\n",
       "                    \n",
       "                \n",
       "                <td id=\"T_9b55f18f_3317_11e6_bee4_a0999b14c21frow3_col8\" class=\"data row3 col8\">\n",
       "                    \n",
       "                        assess\n",
       "                    \n",
       "                \n",
       "                <td id=\"T_9b55f18f_3317_11e6_bee4_a0999b14c21frow3_col9\" class=\"data row3 col9\">\n",
       "                    \n",
       "                        myocardiopathy\n",
       "                    \n",
       "                \n",
       "            </tr>\n",
       "            \n",
       "            <tr>\n",
       "                \n",
       "                <th id=\"T_9b55f18f_3317_11e6_bee4_a0999b14c21f\" class=\"row_heading level9 row4\">\n",
       "                    \n",
       "                        4.0\n",
       "                    \n",
       "                \n",
       "                <td id=\"T_9b55f18f_3317_11e6_bee4_a0999b14c21frow4_col0\" class=\"data row4 col0\">\n",
       "                    \n",
       "                        frataxin\n",
       "                    \n",
       "                \n",
       "                <td id=\"T_9b55f18f_3317_11e6_bee4_a0999b14c21frow4_col1\" class=\"data row4 col1\">\n",
       "                    \n",
       "                        deletion\n",
       "                    \n",
       "                \n",
       "                <td id=\"T_9b55f18f_3317_11e6_bee4_a0999b14c21frow4_col2\" class=\"data row4 col2\">\n",
       "                    \n",
       "                        HDCBAP\n",
       "                    \n",
       "                \n",
       "                <td id=\"T_9b55f18f_3317_11e6_bee4_a0999b14c21frow4_col3\" class=\"data row4 col3\">\n",
       "                    \n",
       "                        cycle\n",
       "                    \n",
       "                \n",
       "                <td id=\"T_9b55f18f_3317_11e6_bee4_a0999b14c21frow4_col4\" class=\"data row4 col4\">\n",
       "                    \n",
       "                        upregulation\n",
       "                    \n",
       "                \n",
       "                <td id=\"T_9b55f18f_3317_11e6_bee4_a0999b14c21frow4_col5\" class=\"data row4 col5\">\n",
       "                    \n",
       "                        ATP\n",
       "                    \n",
       "                \n",
       "                <td id=\"T_9b55f18f_3317_11e6_bee4_a0999b14c21frow4_col6\" class=\"data row4 col6\">\n",
       "                    \n",
       "                        CyaY\n",
       "                    \n",
       "                \n",
       "                <td id=\"T_9b55f18f_3317_11e6_bee4_a0999b14c21frow4_col7\" class=\"data row4 col7\">\n",
       "                    \n",
       "                        regulate\n",
       "                    \n",
       "                \n",
       "                <td id=\"T_9b55f18f_3317_11e6_bee4_a0999b14c21frow4_col8\" class=\"data row4 col8\">\n",
       "                    \n",
       "                        histology\n",
       "                    \n",
       "                \n",
       "                <td id=\"T_9b55f18f_3317_11e6_bee4_a0999b14c21frow4_col9\" class=\"data row4 col9\">\n",
       "                    \n",
       "                        catecholamine\n",
       "                    \n",
       "                \n",
       "            </tr>\n",
       "            \n",
       "            <tr>\n",
       "                \n",
       "                <th id=\"T_9b55f18f_3317_11e6_bee4_a0999b14c21f\" class=\"row_heading level9 row5\">\n",
       "                    \n",
       "                        5.0\n",
       "                    \n",
       "                \n",
       "                <td id=\"T_9b55f18f_3317_11e6_bee4_a0999b14c21frow5_col0\" class=\"data row5 col0\">\n",
       "                    \n",
       "                        tat\n",
       "                    \n",
       "                \n",
       "                <td id=\"T_9b55f18f_3317_11e6_bee4_a0999b14c21frow5_col1\" class=\"data row5 col1\">\n",
       "                    \n",
       "                        silencing\n",
       "                    \n",
       "                \n",
       "                <td id=\"T_9b55f18f_3317_11e6_bee4_a0999b14c21frow5_col2\" class=\"data row5 col2\">\n",
       "                    \n",
       "                        adenocarcinoma\n",
       "                    \n",
       "                \n",
       "                <td id=\"T_9b55f18f_3317_11e6_bee4_a0999b14c21frow5_col3\" class=\"data row5 col3\">\n",
       "                    \n",
       "                        synthesize\n",
       "                    \n",
       "                \n",
       "                <td id=\"T_9b55f18f_3317_11e6_bee4_a0999b14c21frow5_col4\" class=\"data row5 col4\">\n",
       "                    \n",
       "                        destruction\n",
       "                    \n",
       "                \n",
       "                <td id=\"T_9b55f18f_3317_11e6_bee4_a0999b14c21frow5_col5\" class=\"data row5 col5\">\n",
       "                    \n",
       "                        transfer\n",
       "                    \n",
       "                \n",
       "                <td id=\"T_9b55f18f_3317_11e6_bee4_a0999b14c21frow5_col6\" class=\"data row5 col6\">\n",
       "                    \n",
       "                        TALE\n",
       "                    \n",
       "                \n",
       "                <td id=\"T_9b55f18f_3317_11e6_bee4_a0999b14c21frow5_col7\" class=\"data row5 col7\">\n",
       "                    \n",
       "                        cellular\n",
       "                    \n",
       "                \n",
       "                <td id=\"T_9b55f18f_3317_11e6_bee4_a0999b14c21frow5_col8\" class=\"data row5 col8\">\n",
       "                    \n",
       "                        OCT\n",
       "                    \n",
       "                \n",
       "                <td id=\"T_9b55f18f_3317_11e6_bee4_a0999b14c21frow5_col9\" class=\"data row5 col9\">\n",
       "                    \n",
       "                        quality\n",
       "                    \n",
       "                \n",
       "            </tr>\n",
       "            \n",
       "            <tr>\n",
       "                \n",
       "                <th id=\"T_9b55f18f_3317_11e6_bee4_a0999b14c21f\" class=\"row_heading level9 row6\">\n",
       "                    \n",
       "                        6.0\n",
       "                    \n",
       "                \n",
       "                <td id=\"T_9b55f18f_3317_11e6_bee4_a0999b14c21frow6_col0\" class=\"data row6 col0\">\n",
       "                    \n",
       "                        transgene\n",
       "                    \n",
       "                \n",
       "                <td id=\"T_9b55f18f_3317_11e6_bee4_a0999b14c21frow6_col1\" class=\"data row6 col1\">\n",
       "                    \n",
       "                        clone\n",
       "                    \n",
       "                \n",
       "                <td id=\"T_9b55f18f_3317_11e6_bee4_a0999b14c21frow6_col2\" class=\"data row6 col2\">\n",
       "                    \n",
       "                        ATLD\n",
       "                    \n",
       "                \n",
       "                <td id=\"T_9b55f18f_3317_11e6_bee4_a0999b14c21frow6_col3\" class=\"data row6 col3\">\n",
       "                    \n",
       "                        inducible\n",
       "                    \n",
       "                \n",
       "                <td id=\"T_9b55f18f_3317_11e6_bee4_a0999b14c21frow6_col4\" class=\"data row6 col4\">\n",
       "                    \n",
       "                        somedic\n",
       "                    \n",
       "                \n",
       "                <td id=\"T_9b55f18f_3317_11e6_bee4_a0999b14c21frow6_col5\" class=\"data row6 col5\">\n",
       "                    \n",
       "                        scaffold\n",
       "                    \n",
       "                \n",
       "                <td id=\"T_9b55f18f_3317_11e6_bee4_a0999b14c21frow6_col6\" class=\"data row6 col6\">\n",
       "                    \n",
       "                        IRE\n",
       "                    \n",
       "                \n",
       "                <td id=\"T_9b55f18f_3317_11e6_bee4_a0999b14c21frow6_col7\" class=\"data row6 col7\">\n",
       "                    \n",
       "                        import\n",
       "                    \n",
       "                \n",
       "                <td id=\"T_9b55f18f_3317_11e6_bee4_a0999b14c21frow6_col8\" class=\"data row6 col8\">\n",
       "                    \n",
       "                        register\n",
       "                    \n",
       "                \n",
       "                <td id=\"T_9b55f18f_3317_11e6_bee4_a0999b14c21frow6_col9\" class=\"data row6 col9\">\n",
       "                    \n",
       "                        nikolaus\n",
       "                    \n",
       "                \n",
       "            </tr>\n",
       "            \n",
       "            <tr>\n",
       "                \n",
       "                <th id=\"T_9b55f18f_3317_11e6_bee4_a0999b14c21f\" class=\"row_heading level9 row7\">\n",
       "                    \n",
       "                        7.0\n",
       "                    \n",
       "                \n",
       "                <td id=\"T_9b55f18f_3317_11e6_bee4_a0999b14c21frow7_col0\" class=\"data row7 col0\">\n",
       "                    \n",
       "                        MIPEP\n",
       "                    \n",
       "                \n",
       "                <td id=\"T_9b55f18f_3317_11e6_bee4_a0999b14c21frow7_col1\" class=\"data row7 col1\">\n",
       "                    \n",
       "                        exon\n",
       "                    \n",
       "                \n",
       "                <td id=\"T_9b55f18f_3317_11e6_bee4_a0999b14c21frow7_col2\" class=\"data row7 col2\">\n",
       "                    \n",
       "                        investigate\n",
       "                    \n",
       "                \n",
       "                <td id=\"T_9b55f18f_3317_11e6_bee4_a0999b14c21frow7_col3\" class=\"data row7 col3\">\n",
       "                    \n",
       "                        microscopy\n",
       "                    \n",
       "                \n",
       "                <td id=\"T_9b55f18f_3317_11e6_bee4_a0999b14c21frow7_col4\" class=\"data row7 col4\">\n",
       "                    \n",
       "                        gram\n",
       "                    \n",
       "                \n",
       "                <td id=\"T_9b55f18f_3317_11e6_bee4_a0999b14c21frow7_col5\" class=\"data row7 col5\">\n",
       "                    \n",
       "                        transferrin\n",
       "                    \n",
       "                \n",
       "                <td id=\"T_9b55f18f_3317_11e6_bee4_a0999b14c21frow7_col6\" class=\"data row7 col6\">\n",
       "                    \n",
       "                        accessory\n",
       "                    \n",
       "                \n",
       "                <td id=\"T_9b55f18f_3317_11e6_bee4_a0999b14c21frow7_col7\" class=\"data row7 col7\">\n",
       "                    \n",
       "                        frataxin\n",
       "                    \n",
       "                \n",
       "                <td id=\"T_9b55f18f_3317_11e6_bee4_a0999b14c21frow7_col8\" class=\"data row7 col8\">\n",
       "                    \n",
       "                        plus\n",
       "                    \n",
       "                \n",
       "                <td id=\"T_9b55f18f_3317_11e6_bee4_a0999b14c21frow7_col9\" class=\"data row7 col9\">\n",
       "                    \n",
       "                        involvement\n",
       "                    \n",
       "                \n",
       "            </tr>\n",
       "            \n",
       "            <tr>\n",
       "                \n",
       "                <th id=\"T_9b55f18f_3317_11e6_bee4_a0999b14c21f\" class=\"row_heading level9 row8\">\n",
       "                    \n",
       "                        8.0\n",
       "                    \n",
       "                \n",
       "                <td id=\"T_9b55f18f_3317_11e6_bee4_a0999b14c21frow8_col0\" class=\"data row8 col0\">\n",
       "                    \n",
       "                        silence\n",
       "                    \n",
       "                \n",
       "                <td id=\"T_9b55f18f_3317_11e6_bee4_a0999b14c21frow8_col1\" class=\"data row8 col1\">\n",
       "                    \n",
       "                        DNA\n",
       "                    \n",
       "                \n",
       "                <td id=\"T_9b55f18f_3317_11e6_bee4_a0999b14c21frow8_col2\" class=\"data row8 col2\">\n",
       "                    \n",
       "                        responsive\n",
       "                    \n",
       "                \n",
       "                <td id=\"T_9b55f18f_3317_11e6_bee4_a0999b14c21frow8_col3\" class=\"data row8 col3\">\n",
       "                    \n",
       "                        defense\n",
       "                    \n",
       "                \n",
       "                <td id=\"T_9b55f18f_3317_11e6_bee4_a0999b14c21frow8_col4\" class=\"data row8 col4\">\n",
       "                    \n",
       "                        myelinization\n",
       "                    \n",
       "                \n",
       "                <td id=\"T_9b55f18f_3317_11e6_bee4_a0999b14c21frow8_col5\" class=\"data row8 col5\">\n",
       "                    \n",
       "                        protein\n",
       "                    \n",
       "                \n",
       "                <td id=\"T_9b55f18f_3317_11e6_bee4_a0999b14c21frow8_col6\" class=\"data row8 col6\">\n",
       "                    \n",
       "                        mitochondrial\n",
       "                    \n",
       "                \n",
       "                <td id=\"T_9b55f18f_3317_11e6_bee4_a0999b14c21frow8_col7\" class=\"data row8 col7\">\n",
       "                    \n",
       "                        role\n",
       "                    \n",
       "                \n",
       "                <td id=\"T_9b55f18f_3317_11e6_bee4_a0999b14c21frow8_col8\" class=\"data row8 col8\">\n",
       "                    \n",
       "                        underestimate\n",
       "                    \n",
       "                \n",
       "                <td id=\"T_9b55f18f_3317_11e6_bee4_a0999b14c21frow8_col9\" class=\"data row8 col9\">\n",
       "                    \n",
       "                        survival\n",
       "                    \n",
       "                \n",
       "            </tr>\n",
       "            \n",
       "            <tr>\n",
       "                \n",
       "                <th id=\"T_9b55f18f_3317_11e6_bee4_a0999b14c21f\" class=\"row_heading level9 row9\">\n",
       "                    \n",
       "                        9.0\n",
       "                    \n",
       "                \n",
       "                <td id=\"T_9b55f18f_3317_11e6_bee4_a0999b14c21frow9_col0\" class=\"data row9 col0\">\n",
       "                    \n",
       "                        quantitation\n",
       "                    \n",
       "                \n",
       "                <td id=\"T_9b55f18f_3317_11e6_bee4_a0999b14c21frow9_col1\" class=\"data row9 col1\">\n",
       "                    \n",
       "                        repression\n",
       "                    \n",
       "                \n",
       "                <td id=\"T_9b55f18f_3317_11e6_bee4_a0999b14c21frow9_col2\" class=\"data row9 col2\">\n",
       "                    \n",
       "                        upregulation\n",
       "                    \n",
       "                \n",
       "                <td id=\"T_9b55f18f_3317_11e6_bee4_a0999b14c21frow9_col3\" class=\"data row9 col3\">\n",
       "                    \n",
       "                        maintain\n",
       "                    \n",
       "                \n",
       "                <td id=\"T_9b55f18f_3317_11e6_bee4_a0999b14c21frow9_col4\" class=\"data row9 col4\">\n",
       "                    \n",
       "                        vibrameter\n",
       "                    \n",
       "                \n",
       "                <td id=\"T_9b55f18f_3317_11e6_bee4_a0999b14c21frow9_col5\" class=\"data row9 col5\">\n",
       "                    \n",
       "                        defective\n",
       "                    \n",
       "                \n",
       "                <td id=\"T_9b55f18f_3317_11e6_bee4_a0999b14c21frow9_col6\" class=\"data row9 col6\">\n",
       "                    \n",
       "                        matrix\n",
       "                    \n",
       "                \n",
       "                <td id=\"T_9b55f18f_3317_11e6_bee4_a0999b14c21frow9_col7\" class=\"data row9 col7\">\n",
       "                    \n",
       "                        synthesis\n",
       "                    \n",
       "                \n",
       "                <td id=\"T_9b55f18f_3317_11e6_bee4_a0999b14c21frow9_col8\" class=\"data row9 col8\">\n",
       "                    \n",
       "                        adapt\n",
       "                    \n",
       "                \n",
       "                <td id=\"T_9b55f18f_3317_11e6_bee4_a0999b14c21frow9_col9\" class=\"data row9 col9\">\n",
       "                    \n",
       "                        dentate\n",
       "                    \n",
       "                \n",
       "            </tr>\n",
       "            \n",
       "        </tbody>\n",
       "        </table>\n",
       "        "
      ],
      "text/plain": [
       "<pandas.core.style.Styler at 0x11cbaa390>"
      ]
     },
     "execution_count": 81,
     "metadata": {},
     "output_type": "execute_result"
    }
   ],
   "source": [
    "df[df.columns.sort_values()].style.apply(color_changed, axis=None).\\\n",
    "applymap(lambda values,axis: 'background-color: #D8D8D8',\n",
    "                  axis=0, subset=['FXNPrevious','bcrPrevious','riboflavinPrevious','oxidasePrevious','proteinPrevious'])"
   ]
  },
  {
   "cell_type": "markdown",
   "metadata": {},
   "source": [
    "### Normal Corpora vs Scientific Corpora\n",
    "How does the syntatic dependency depth and branch point number of documents in normal corpora differ from those in scientfic corpora?"
   ]
  },
  {
   "cell_type": "code",
   "execution_count": 82,
   "metadata": {
    "collapsed": true
   },
   "outputs": [],
   "source": [
    "abstract_avg_length = np.mean([len(list(doc)) for doc in nlp.pipe([doc_['title']+doc_['abstract'] for doc_ in raw_corpus])])"
   ]
  },
  {
   "cell_type": "code",
   "execution_count": 83,
   "metadata": {
    "collapsed": false
   },
   "outputs": [],
   "source": [
    "acceptable_reuters = [fileid for fileid in reuters.fileids() if 150<=len(reuters.words(fileid))<=350]"
   ]
  },
  {
   "cell_type": "code",
   "execution_count": 84,
   "metadata": {
    "collapsed": true
   },
   "outputs": [],
   "source": [
    "reuters_avg_length = np.mean([len(reuters.words(fileid)) for fileid in acceptable_reuters[:2104]])"
   ]
  },
  {
   "cell_type": "code",
   "execution_count": 85,
   "metadata": {
    "collapsed": true
   },
   "outputs": [],
   "source": [
    "reuters_raw = [' '.join(reuters.words(fileid)) for fileid in acceptable_reuters[:2104]]"
   ]
  },
  {
   "cell_type": "code",
   "execution_count": 86,
   "metadata": {
    "collapsed": false
   },
   "outputs": [],
   "source": [
    "reuters_walks = [[list(approp_doc(line)) for line in graph_walks(nlp(doc))] for doc in reuters_raw]"
   ]
  },
  {
   "cell_type": "code",
   "execution_count": 87,
   "metadata": {
    "collapsed": false
   },
   "outputs": [],
   "source": [
    "abstract_walks = [[list(approp_doc(line)) for line in graph_walks(doc)] for doc in nlp.pipe([doc_['title']+doc_['abstract'] for doc_ in raw_corpus])]"
   ]
  },
  {
   "cell_type": "code",
   "execution_count": 88,
   "metadata": {
    "collapsed": false
   },
   "outputs": [],
   "source": [
    "reuters_maxdepth = [reduce(lambda x,y: max(x,len(y)),line,0) for line in reuters_walks]\n",
    "abstract_maxdepth = [reduce(lambda x,y: max(x,len(y)),line,0) for line in abstract_walks]\n",
    "maxdepth_df = pd.DataFrame()\n",
    "maxdepth_df['Reuters'] = reuters_maxdepth\n",
    "maxdepth_df['Abstracts'] = abstract_maxdepth\n",
    "avg_length_df = pd.DataFrame()\n",
    "avg_length_df['Reuters']= [np.mean(map(len,doc)) for doc in reuters_walks]\n",
    "avg_length_df['Abstracts'] = [np.mean(map(len,doc)) for doc in abstract_walks]"
   ]
  },
  {
   "cell_type": "code",
   "execution_count": 89,
   "metadata": {
    "collapsed": false
   },
   "outputs": [
    {
     "data": {
      "text/html": [
       "<span style=\"color:green\">Average Abstract Length: 220</span>"
      ],
      "text/plain": [
       "<IPython.core.display.HTML object>"
      ]
     },
     "metadata": {},
     "output_type": "display_data"
    },
    {
     "data": {
      "text/html": [
       "<span style=\"color:blue\">Average Reuters Length: 227</span>"
      ],
      "text/plain": [
       "<IPython.core.display.HTML object>"
      ]
     },
     "metadata": {},
     "output_type": "display_data"
    },
    {
     "data": {
      "text/plain": [
       "<matplotlib.axes._subplots.AxesSubplot at 0x157470690>"
      ]
     },
     "execution_count": 89,
     "metadata": {},
     "output_type": "execute_result"
    },
    {
     "data": {
      "image/png": "[encoded data removed]",
      "text/plain": [
       "<matplotlib.figure.Figure at 0x107d27fd0>"
      ]
     },
     "metadata": {},
     "output_type": "display_data"
    }
   ],
   "source": [
    "display(HTML(u'<span style=\"color:green\">Average Abstract Length: {}</span>'.format(int(abstract_avg_length))))\n",
    "display(HTML(u'<span style=\"color:blue\">Average Reuters Length: {}</span>'.format(int(reuters_avg_length))))\n",
    "fig, (ax1,ax2) = plt.subplots(1,2,figsize=(16,7))\n",
    "maxdepth_df.plot(kind='kde',title='Maximum Depth of Dependency Tree',ax=ax1)\n",
    "avg_length_df.plot(kind='kde', title='Average Branch Length',ax=ax2)"
   ]
  },
  {
   "cell_type": "code",
   "execution_count": 90,
   "metadata": {
    "collapsed": false
   },
   "outputs": [
    {
     "data": {
      "text/plain": [
       "(-100, 1000)"
      ]
     },
     "execution_count": 90,
     "metadata": {},
     "output_type": "execute_result"
    },
    {
     "data": {
      "image/png": "[encoded data removed]",
      "text/plain": [
       "<matplotlib.figure.Figure at 0x157573450>"
      ]
     },
     "metadata": {},
     "output_type": "display_data"
    }
   ],
   "source": [
    "reuters_branch_num = [len(doc) for doc in reuters_walks]\n",
    "abstract_branch_num = [len(doc) for doc in abstract_walks]\n",
    "branch_num_df = pd.DataFrame()\n",
    "branch_num_df['Reuters'] = reuters_branch_num\n",
    "branch_num_df['Abstracts'] = abstract_branch_num\n",
    "branch_num_df.plot(kind='kde',title='Number of branch points')\n",
    "plt.xlim(-100,1000)"
   ]
  },
  {
   "cell_type": "code",
   "execution_count": 91,
   "metadata": {
    "collapsed": true
   },
   "outputs": [],
   "source": [
    "reuters_avg_length = np.mean([len(reuters.words(fileid)) for fileid in reuters.fileids()[:2104]])"
   ]
  },
  {
   "cell_type": "code",
   "execution_count": 92,
   "metadata": {
    "collapsed": false
   },
   "outputs": [],
   "source": [
    "all_walks_matrix = np.matrix(all_walks_model.docvecs)\n",
    "pd.to_pickle(all_walks_matrix,'/Users/kahnza2/Documents/all_walks_matrix.pkl')"
   ]
  },
  {
   "cell_type": "markdown",
   "metadata": {},
   "source": [
    "### Clustering the words"
   ]
  },
  {
   "cell_type": "code",
   "execution_count": 93,
   "metadata": {
    "collapsed": true
   },
   "outputs": [],
   "source": [
    "all_walks_word_features = np.matrix(all_walks_model.syn0)"
   ]
  },
  {
   "cell_type": "code",
   "execution_count": 94,
   "metadata": {
    "collapsed": false
   },
   "outputs": [],
   "source": [
    "all_walks_word_distance = metrics.pairwise.cosine_distances(all_walks_word_features)\n",
    "all_walks_word_distance_condensed = scipy.spatial.distance.pdist(all_walks_word_features,metric='cosine')"
   ]
  },
  {
   "cell_type": "code",
   "execution_count": 728,
   "metadata": {
    "collapsed": false
   },
   "outputs": [
    {
     "data": {
      "text/plain": [
       "(6.2472194e-05, 1485.4528)"
      ]
     },
     "execution_count": 728,
     "metadata": {},
     "output_type": "execute_result"
    }
   ],
   "source": [
    "np.min(all_walks_word_similarity), np.max(all_walks_word_similarity)"
   ]
  },
  {
   "cell_type": "code",
   "execution_count": 100,
   "metadata": {
    "collapsed": true
   },
   "outputs": [],
   "source": [
    "def make_kde(cls_id,**kwargs):\n",
    "    return sns.kdeplot(pd.Series(cls_id).value_counts(),shade=True,**kwargs)"
   ]
  },
  {
   "cell_type": "code",
   "execution_count": 101,
   "metadata": {
    "collapsed": true
   },
   "outputs": [],
   "source": [
    "def custom_connectivity(idx,topn=5):\n",
    "    words, distances = zip(*all_walks_model.most_similar(all_walks_model.index2word[idx],topn=topn))\n",
    "    return [all_walks_model.vocab[word].index for word in words]"
   ]
  },
  {
   "cell_type": "code",
   "execution_count": 102,
   "metadata": {
    "collapsed": true
   },
   "outputs": [],
   "source": [
    "def get_word_cluster(word, Y):\n",
    "    word_cls = Y[all_walks_model.vocab[word].index]\n",
    "    return [all_walks_model.index2word[idx] for idx in np.argwhere(Y==word_cls)]\n",
    "    "
   ]
  },
  {
   "cell_type": "code",
   "execution_count": 124,
   "metadata": {
    "collapsed": false
   },
   "outputs": [],
   "source": [
    "Z_w2v_all_walks = scipy.cluster.hierarchy.linkage(all_walks_word_distance_condensed,'complete', metric='cosine')"
   ]
  },
  {
   "cell_type": "code",
   "execution_count": 132,
   "metadata": {
    "collapsed": false
   },
   "outputs": [
    {
     "data": {
      "text/plain": [
       "<matplotlib.axes._subplots.AxesSubplot at 0x15e32bf10>"
      ]
     },
     "execution_count": 132,
     "metadata": {},
     "output_type": "execute_result"
    },
    {
     "data": {
      "image/png": "[encoded data removed]",
      "text/plain": [
       "<matplotlib.figure.Figure at 0x15e090110>"
      ]
     },
     "metadata": {},
     "output_type": "display_data"
    }
   ],
   "source": [
    "Z_w2v_id_all_walks = scipy.cluster.hierarchy.fcluster(Z_w2v_all_walks,0.95, criterion='distance')\n",
    "make_kde(Z_w2v_id_all_walks)"
   ]
  },
  {
   "cell_type": "code",
   "execution_count": 134,
   "metadata": {
    "collapsed": false,
    "scrolled": false
   },
   "outputs": [
    {
     "name": "stderr",
     "output_type": "stream",
     "text": [
      "/usr/local/lib/python2.7/site-packages/ipykernel/__main__.py:3: DeprecationWarning: converting an array with ndim > 0 to an index will result in an error in the future\n",
      "  app.launch_new_instance()\n"
     ]
    },
    {
     "data": {
      "text/plain": [
       "[u'riboflavin',\n",
       " u'post',\n",
       " u'thiamin',\n",
       " u'translational',\n",
       " u'CpG',\n",
       " u'carotene',\n",
       " u'histology',\n",
       " u'MICARS',\n",
       " u'industrialize',\n",
       " u'BARS']"
      ]
     },
     "execution_count": 134,
     "metadata": {},
     "output_type": "execute_result"
    }
   ],
   "source": [
    "get_word_cluster('riboflavin',Z_w2v_id_all_walks)"
   ]
  },
  {
   "cell_type": "code",
   "execution_count": 139,
   "metadata": {
    "collapsed": false
   },
   "outputs": [
    {
     "name": "stderr",
     "output_type": "stream",
     "text": [
      "/usr/local/lib/python2.7/site-packages/ipykernel/__main__.py:3: DeprecationWarning: converting an array with ndim > 0 to an index will result in an error in the future\n",
      "  app.launch_new_instance()\n"
     ]
    },
    {
     "data": {
      "text/plain": [
       "[u'mean',\n",
       " u'multiple',\n",
       " u'SD',\n",
       " u'olivopontocerebellar',\n",
       " u'robot',\n",
       " u'faster',\n",
       " u'gram',\n",
       " u'discomfort',\n",
       " u'leukodystrophy',\n",
       " u'false',\n",
       " u'CPOX',\n",
       " u'arrthymias',\n",
       " u'forties',\n",
       " u'SEM',\n",
       " u'phaeochromocytoma',\n",
       " u'coproporphyrinogen',\n",
       " u'ketosis',\n",
       " u'coA',\n",
       " u'somedic',\n",
       " u'myelinization',\n",
       " u'FCCA',\n",
       " u'neurophysiopathologic',\n",
       " u'handheld',\n",
       " u'phosphatidyl']"
      ]
     },
     "execution_count": 139,
     "metadata": {},
     "output_type": "execute_result"
    }
   ],
   "source": [
    "get_word_cluster('CPOX',Z_w2v_id_all_walks)"
   ]
  },
  {
   "cell_type": "code",
   "execution_count": 162,
   "metadata": {
    "collapsed": false
   },
   "outputs": [],
   "source": [
    "def find_merge(word, linkage):\n",
    "    w_max = len(all_walks_model.vocab)\n",
    "    word_idx = all_walks_model.vocab[word].index\n",
    "    merge_locations = linkage[np.logical_or(linkage[:,0]==word_idx,linkage[:,1]==word_idx)].ravel()\n",
    "    return all_walks_model.index2word[int(merge_locations[1])], merge_locations[2]"
   ]
  },
  {
   "cell_type": "code",
   "execution_count": 163,
   "metadata": {
    "collapsed": false
   },
   "outputs": [
    {
     "data": {
      "text/plain": [
       "(u'encoding', 0.34166957676667031)"
      ]
     },
     "execution_count": 163,
     "metadata": {},
     "output_type": "execute_result"
    }
   ],
   "source": [
    "find_merge('FXN', Z_w2v_all_walks)"
   ]
  },
  {
   "cell_type": "code",
   "execution_count": 167,
   "metadata": {
    "collapsed": false
   },
   "outputs": [
    {
     "data": {
      "text/plain": [
       "(u'COX', 0.28521163023971319)"
      ]
     },
     "execution_count": 167,
     "metadata": {},
     "output_type": "execute_result"
    }
   ],
   "source": [
    "find_merge('oxidase',Z_w2v_all_walks)"
   ]
  },
  {
   "cell_type": "code",
   "execution_count": 169,
   "metadata": {
    "collapsed": false
   },
   "outputs": [
    {
     "data": {
      "text/plain": [
       "(u'thiamin', 0.172177045415005)"
      ]
     },
     "execution_count": 169,
     "metadata": {},
     "output_type": "execute_result"
    }
   ],
   "source": [
    "find_merge('riboflavin',Z_w2v_all_walks)"
   ]
  },
  {
   "cell_type": "code",
   "execution_count": 170,
   "metadata": {
    "collapsed": false
   },
   "outputs": [
    {
     "data": {
      "text/plain": [
       "(u'frataxin', 0.33900562452284488)"
      ]
     },
     "execution_count": 170,
     "metadata": {},
     "output_type": "execute_result"
    }
   ],
   "source": [
    "find_merge('protein',Z_w2v_all_walks)"
   ]
  },
  {
   "cell_type": "markdown",
   "metadata": {},
   "source": [
    "# <span style=\"background-color:#A5DF00\">Replacing Words by the Cluster They Belong To</span>"
   ]
  },
  {
   "cell_type": "code",
   "execution_count": 229,
   "metadata": {
    "collapsed": false
   },
   "outputs": [],
   "source": [
    "def cluster_representative(features, cluster_num, assignments):\n",
    "        batch = assignments==cluster_num\n",
    "        minor_dmatrix = scipy.spatial.distance.squareform(\n",
    "            scipy.spatial.distance.pdist(features[batch],metric='cosine'))\n",
    "        center = np.argmin(np.mean(minor_dmatrix,axis=1))\n",
    "        return all_walks_model.index2word[np.argwhere(batch)[center]]"
   ]
  },
  {
   "cell_type": "code",
   "execution_count": 231,
   "metadata": {
    "collapsed": false
   },
   "outputs": [
    {
     "name": "stdout",
     "output_type": "stream",
     "text": [
      "chemotherapy\n",
      "[u'primary', u'anti', u'apoptotic', u'chemotherapy', u'vesicular', u'centrifugation']\n"
     ]
    },
    {
     "name": "stderr",
     "output_type": "stream",
     "text": [
      "/usr/local/lib/python2.7/site-packages/ipykernel/__main__.py:6: DeprecationWarning: converting an array with ndim > 0 to an index will result in an error in the future\n",
      "/usr/local/lib/python2.7/site-packages/ipykernel/__main__.py:3: DeprecationWarning: converting an array with ndim > 0 to an index will result in an error in the future\n",
      "  app.launch_new_instance()\n"
     ]
    }
   ],
   "source": [
    "print(cluster_representative(all_walks_word_features,50,Z_w2v_id_all_walks))\n",
    "print(get_word_cluster(cluster_representative(all_walks_word_features,50,Z_w2v_id_all_walks),Z_w2v_id_all_walks))"
   ]
  },
  {
   "cell_type": "code",
   "execution_count": 242,
   "metadata": {
    "collapsed": false
   },
   "outputs": [],
   "source": [
    "Z_w2v_id_all_walks_counts = pd.Series(Z_w2v_id_all_walks).value_counts()\n",
    "acceptable_clusters = set(Z_w2v_id_all_walks_counts[np.logical_and(2<=Z_w2v_id_all_walks_counts,\n",
    "                                                               Z_w2v_id_all_walks_counts<=10)].index)"
   ]
  },
  {
   "cell_type": "code",
   "execution_count": 245,
   "metadata": {
    "collapsed": false
   },
   "outputs": [
    {
     "name": "stderr",
     "output_type": "stream",
     "text": [
      "/usr/local/lib/python2.7/site-packages/ipykernel/__main__.py:6: DeprecationWarning: converting an array with ndim > 0 to an index will result in an error in the future\n"
     ]
    }
   ],
   "source": [
    "w_remap = {word:cluster_representative(\n",
    "        all_walks_word_features,\n",
    "        Z_w2v_id_all_walks[w_id],\n",
    "        Z_w2v_id_all_walks) for w_id,word in enumerate(all_walks_model.index2word) if Z_w2v_id_all_walks[w_id] in acceptable_clusters}"
   ]
  },
  {
   "cell_type": "code",
   "execution_count": 273,
   "metadata": {
    "collapsed": false
   },
   "outputs": [],
   "source": [
    "replacement_targets = set(w_remap.keys())\n",
    "all_walks_corpus_remapped = map(lambda entry:\n",
    "                                [u'<@{}>'.format(w_remap[word]) if word in replacement_targets else word for word in entry.words],\n",
    "                               all_walks_corpus)"
   ]
  },
  {
   "cell_type": "code",
   "execution_count": 278,
   "metadata": {
    "collapsed": true
   },
   "outputs": [],
   "source": [
    "id2word = gs.corpora.Dictionary(all_walks_corpus_remapped)\n",
    "id2word.filter_extremes(no_below=2,no_above=1.0)"
   ]
  },
  {
   "cell_type": "code",
   "execution_count": 284,
   "metadata": {
    "collapsed": false
   },
   "outputs": [],
   "source": [
    "all_walks_corpus_remapped_bow = gs.matutils.corpus2dense([id2word.doc2bow(doc) for doc in all_walks_corpus_remapped],\n",
    "                                                        num_terms=len(id2word),\n",
    "                                                        num_docs = len(all_walks_corpus_remapped)).T"
   ]
  },
  {
   "cell_type": "code",
   "execution_count": 343,
   "metadata": {
    "collapsed": true
   },
   "outputs": [],
   "source": [
    "original_corpus_remapped = map(lambda entry:\n",
    "                               ' '.join([u'<span style=\"color:blue\">+{}</span>'.format(w_remap[word]) if \n",
    "                                word in replacement_targets else word for word in entry['title'].split()]),\n",
    "                               raw_corpus)"
   ]
  },
  {
   "cell_type": "markdown",
   "metadata": {},
   "source": [
    "# <span style=\"background-color:#A5DF00\">Clustering The Corpus</span>"
   ]
  },
  {
   "cell_type": "code",
   "execution_count": 295,
   "metadata": {
    "collapsed": true
   },
   "outputs": [],
   "source": [
    "condensed_distance = scipy.clip(scipy.spatial.distance.pdist(all_walks_corpus_remapped_bow,metric='cosine'),0,100)\n",
    "Z_d2v = scipy.cluster.hierarchy.linkage(condensed_distance,method='complete',metric='cosine')\n"
   ]
  },
  {
   "cell_type": "code",
   "execution_count": 297,
   "metadata": {
    "collapsed": false
   },
   "outputs": [
    {
     "name": "stdout",
     "output_type": "stream",
     "text": [
      "0.366209197358\n"
     ]
    }
   ],
   "source": [
    "c_d2v, coph_dists_d2v = scipy.cluster.hierarchy.cophenet(Z_d2v,condensed_distance)\n",
    "print(c_d2v)"
   ]
  },
  {
   "cell_type": "code",
   "execution_count": 300,
   "metadata": {
    "collapsed": false
   },
   "outputs": [
    {
     "data": {
      "image/png": "[encoded data removed]",
      "text/plain": [
       "<matplotlib.figure.Figure at 0x160747550>"
      ]
     },
     "metadata": {},
     "output_type": "display_data"
    }
   ],
   "source": [
    "fig = plt.figure(figsize=(25,10))\n",
    "plt.ylabel('Titles or cluster size')\n",
    "plt.xlabel('distances')\n",
    "plt.tight_layout()\n",
    "scipy.cluster.hierarchy.dendrogram(Z_d2v,truncate_mode='lastp',show_leaf_counts='false',\n",
    "                                  leaf_rotation=270,\n",
    "                                  orientation='top',\n",
    "                                  p=200,\n",
    "                                  leaf_font_size=12)\n",
    "plt.ylim(0.8,1.01)\n",
    "plt.show()"
   ]
  },
  {
   "cell_type": "code",
   "execution_count": 422,
   "metadata": {
    "collapsed": true
   },
   "outputs": [],
   "source": [
    "Z_d2v_id = scipy.cluster.hierarchy.fcluster(Z_d2v,50,criterion='maxclust')"
   ]
  },
  {
   "cell_type": "code",
   "execution_count": 565,
   "metadata": {
    "collapsed": false
   },
   "outputs": [
    {
     "data": {
      "text/plain": [
       "<matplotlib.axes._subplots.AxesSubplot at 0x154290c50>"
      ]
     },
     "execution_count": 565,
     "metadata": {},
     "output_type": "execute_result"
    },
    {
     "data": {
      "image/png": "[encoded data removed]",
      "text/plain": [
       "<matplotlib.figure.Figure at 0x153047c90>"
      ]
     },
     "metadata": {},
     "output_type": "display_data"
    }
   ],
   "source": [
    "make_kde(pd.Series(Z_d2v_id).value_counts())"
   ]
  },
  {
   "cell_type": "code",
   "execution_count": 303,
   "metadata": {
    "collapsed": true
   },
   "outputs": [],
   "source": [
    "pd.to_pickle(Z_d2v_id,'Z_d2v_id_w_replace.pkl')"
   ]
  },
  {
   "cell_type": "code",
   "execution_count": 401,
   "metadata": {
    "collapsed": false,
    "scrolled": false
   },
   "outputs": [
    {
     "data": {
      "text/html": [
       "Location and <span style=\"color:red\">-nucleotide</span> sequence of frdB, the <span style=\"color:red\">-gene</span> <span style=\"color:red\">-coding</span> for the iron-sulphur <span style=\"color:red\">-protein</span> subunit of the fumarate reductase of Escherichia coli."
      ],
      "text/plain": [
       "<IPython.core.display.HTML object>"
      ]
     },
     "metadata": {},
     "output_type": "display_data"
    },
    {
     "data": {
      "text/html": [
       "Cloning and <span style=\"color:red\">-expression</span> of the genes of two fumarate reductase <span style=\"color:red\">-subunits</span> from Wolinella succinogenes."
      ],
      "text/plain": [
       "<IPython.core.display.HTML object>"
      ]
     },
     "metadata": {},
     "output_type": "display_data"
    },
    {
     "data": {
      "text/html": [
       "Homology of lysS and lysU, the two Escherichia coli genes <span style=\"color:red\">-encoding</span> distinct lysyl-tRNA synthetase species."
      ],
      "text/plain": [
       "<IPython.core.display.HTML object>"
      ]
     },
     "metadata": {},
     "output_type": "display_data"
    },
    {
     "data": {
      "text/html": [
       "Fine tuning the <span style=\"color:red\">-transcription</span> of ldhA for D-lactate production."
      ],
      "text/plain": [
       "<IPython.core.display.HTML object>"
      ]
     },
     "metadata": {},
     "output_type": "display_data"
    },
    {
     "data": {
      "text/html": [
       "Cloning and <span style=\"color:red\">-functional</span> <span style=\"color:red\">-characterization</span> of Helicobacter <span style=\"color:red\">-pylori</span> fumarate reductase operon comprising three <span style=\"color:red\">-structural</span> genes <span style=\"color:red\">-coding</span> for <span style=\"color:red\">-subunits</span> C, A and B."
      ],
      "text/plain": [
       "<IPython.core.display.HTML object>"
      ]
     },
     "metadata": {},
     "output_type": "display_data"
    },
    {
     "data": {
      "text/html": [
       "Homology of aspartyl- and lysyl-tRNA synthetases."
      ],
      "text/plain": [
       "<IPython.core.display.HTML object>"
      ]
     },
     "metadata": {},
     "output_type": "display_data"
    },
    {
     "data": {
      "text/html": [
       "Evaluation of <span style=\"color:red\">-genetic</span> <span style=\"color:red\">-manipulation</span> <span style=\"color:red\">-strategies</span> on D-lactate production by Escherichia coli."
      ],
      "text/plain": [
       "<IPython.core.display.HTML object>"
      ]
     },
     "metadata": {},
     "output_type": "display_data"
    }
   ],
   "source": [
    "for idx in np.argwhere(Z_d2v_id==33):\n",
    "    line = original_corpus_remapped[idx]\n",
    "    #display(HTML(line))\n",
    "    oldline = raw_corpus[idx]['title'].split()\n",
    "    display(HTML(' '.join(\n",
    "                [word if word in line.split() else '<span style=\"color:red\">-{}</span>'.format(word) for word in oldline])))"
   ]
  },
  {
   "cell_type": "markdown",
   "metadata": {},
   "source": [
    "## Visualizing the Spread of Documents containing FXN and frataxin"
   ]
  },
  {
   "cell_type": "code",
   "execution_count": 404,
   "metadata": {
    "collapsed": true
   },
   "outputs": [],
   "source": [
    "FXN_docs = [idx for idx,doc in enumerate(all_walks_corpus) if 'FXN' in doc.words]\n",
    "frataxin_docs = [idx for idx,doc in enumerate(all_walks_corpus) if 'frataxin' in doc.words]\n",
    "both_docs = [idx for idx, doc in enumerate(all_walks_corpus) if 'frataxin' in doc.words and 'FXN' in doc.words]"
   ]
  },
  {
   "cell_type": "code",
   "execution_count": 408,
   "metadata": {
    "collapsed": true
   },
   "outputs": [],
   "source": [
    "pd.to_pickle({'FXN':FXN_docs,'frataxin':frataxin_docs,'both':both_docs},'fxn_frat.pkl')"
   ]
  },
  {
   "cell_type": "markdown",
   "metadata": {
    "collapsed": true
   },
   "source": [
    "## Discriminative Words for Each Cluster"
   ]
  },
  {
   "cell_type": "code",
   "execution_count": 423,
   "metadata": {
    "collapsed": false
   },
   "outputs": [
    {
     "name": "stdout",
     "output_type": "stream",
     "text": [
      "label 50\n"
     ]
    }
   ],
   "source": [
    "class_performance_dict = pt.one_vs_rest_clf(all_walks_corpus_remapped_bow,Z_d2v_id)"
   ]
  },
  {
   "cell_type": "code",
   "execution_count": 557,
   "metadata": {
    "collapsed": true
   },
   "outputs": [],
   "source": [
    "def color_words(word, color='blue'):\n",
    "    if word.startswith('@'):\n",
    "        word_emph = u'<span style=\"color:{color}\">{word}</span> '.format(color=color, word=word)\n",
    "        cls_partners = u' | '.join(get_word_cluster(word[1:],Z_w2v_id_all_walks))\n",
    "        return display(HTML(word_emph+u'<i>{}</i>'.format(cls_partners)))\n",
    "    else:\n",
    "        return display(HTML(u'<b><span style=\"color:#08BB92\">{}</span><b>'.format(word)))"
   ]
  },
  {
   "cell_type": "code",
   "execution_count": 566,
   "metadata": {
    "collapsed": false
   },
   "outputs": [
    {
     "data": {
      "text/html": [
       "<span style=\"color:blue\">@chronotropic</span> <i>chronotropic | unconscious</i>"
      ],
      "text/plain": [
       "<IPython.core.display.HTML object>"
      ]
     },
     "metadata": {},
     "output_type": "display_data"
    },
    {
     "data": {
      "text/html": [
       "<b><span style=\"color:#08BB92\">ventilatory</span><b>"
      ],
      "text/plain": [
       "<IPython.core.display.HTML object>"
      ]
     },
     "metadata": {},
     "output_type": "display_data"
    },
    {
     "data": {
      "text/html": [
       "<span style=\"color:blue\">@benzamides</span> <i>inversely | separately | hydroxamates | benzamides | variously | invaluable</i>"
      ],
      "text/plain": [
       "<IPython.core.display.HTML object>"
      ]
     },
     "metadata": {},
     "output_type": "display_data"
    },
    {
     "data": {
      "text/html": [
       "<b><span style=\"color:#08BB92\">upregulation</span><b>"
      ],
      "text/plain": [
       "<IPython.core.display.HTML object>"
      ]
     },
     "metadata": {},
     "output_type": "display_data"
    },
    {
     "data": {
      "text/html": [
       "<span style=\"color:blue\">@deposition</span> <i>acute | deposition | relieve | replete | permanent</i>"
      ],
      "text/plain": [
       "<IPython.core.display.HTML object>"
      ]
     },
     "metadata": {},
     "output_type": "display_data"
    },
    {
     "data": {
      "text/html": [
       "<b><span style=\"color:#08BB92\">malformation</span><b>"
      ],
      "text/plain": [
       "<IPython.core.display.HTML object>"
      ]
     },
     "metadata": {},
     "output_type": "display_data"
    },
    {
     "data": {
      "text/html": [
       "<span style=\"color:blue\">@ampC</span> <i>attenuator | fecal | alizad | ampC | seward | shedding</i>"
      ],
      "text/plain": [
       "<IPython.core.display.HTML object>"
      ]
     },
     "metadata": {},
     "output_type": "display_data"
    },
    {
     "data": {
      "text/html": [
       "<b><span style=\"color:#08BB92\">incretin</span><b>"
      ],
      "text/plain": [
       "<IPython.core.display.HTML object>"
      ]
     },
     "metadata": {},
     "output_type": "display_data"
    },
    {
     "data": {
      "text/html": [
       "<span style=\"color:blue\">@lipofuscin</span> <i>layer | neuronopathy | granular | shrinkage | lipofuscin | saccaromyces</i>"
      ],
      "text/plain": [
       "<IPython.core.display.HTML object>"
      ]
     },
     "metadata": {},
     "output_type": "display_data"
    },
    {
     "data": {
      "text/html": [
       "<b><span style=\"color:#08BB92\">myelinated</span><b>"
      ],
      "text/plain": [
       "<IPython.core.display.HTML object>"
      ]
     },
     "metadata": {},
     "output_type": "display_data"
    },
    {
     "data": {
      "text/html": [
       "<span style=\"color:blue\">@decisive</span> <i>decisive | topoisomerase | kinship | pristanic</i>"
      ],
      "text/plain": [
       "<IPython.core.display.HTML object>"
      ]
     },
     "metadata": {},
     "output_type": "display_data"
    },
    {
     "data": {
      "text/html": [
       "<b><span style=\"color:#08BB92\">consistent</span><b>"
      ],
      "text/plain": [
       "<IPython.core.display.HTML object>"
      ]
     },
     "metadata": {},
     "output_type": "display_data"
    },
    {
     "data": {
      "text/html": [
       "<b><span style=\"color:#08BB92\">hear</span><b>"
      ],
      "text/plain": [
       "<IPython.core.display.HTML object>"
      ]
     },
     "metadata": {},
     "output_type": "display_data"
    },
    {
     "data": {
      "text/html": [
       "<span style=\"color:blue\">@deficit</span> <i>deficit | blindness | ultracentrifugation | submovements | osteoarticular | smoothness | sixth | artcle</i>"
      ],
      "text/plain": [
       "<IPython.core.display.HTML object>"
      ]
     },
     "metadata": {},
     "output_type": "display_data"
    },
    {
     "data": {
      "text/html": [
       "<span style=\"color:blue\">@press</span> <i>course | mild | guide | press | autoimmune | minnesota</i>"
      ],
      "text/plain": [
       "<IPython.core.display.HTML object>"
      ]
     },
     "metadata": {},
     "output_type": "display_data"
    }
   ],
   "source": [
    "for word in pt.best_estimator_word_display(class_performance_dict[29].best_estimator_,id2word,topn=15):\n",
    "    color_words(word, color='blue')"
   ]
  },
  {
   "cell_type": "code",
   "execution_count": 531,
   "metadata": {
    "collapsed": false
   },
   "outputs": [
    {
     "data": {
      "text/plain": [
       "<matplotlib.axes._subplots.AxesSubplot at 0x15301f090>"
      ]
     },
     "execution_count": 531,
     "metadata": {},
     "output_type": "execute_result"
    },
    {
     "data": {
      "image/png": "[encoded data removed]",
      "text/plain": [
       "<matplotlib.figure.Figure at 0x15433a2d0>"
      ]
     },
     "metadata": {},
     "output_type": "display_data"
    }
   ],
   "source": [
    "sns.kdeplot(np.array([gs_obj.best_score_ for gs_obj in class_performance_dict.itervalues()]))"
   ]
  },
  {
   "cell_type": "code",
   "execution_count": null,
   "metadata": {
    "collapsed": true
   },
   "outputs": [],
   "source": []
  }
 ],
 "metadata": {
  "kernelspec": {
   "display_name": "Python 2",
   "language": "python",
   "name": "python2"
  },
  "language_info": {
   "codemirror_mode": {
    "name": "ipython",
    "version": 2
   },
   "file_extension": ".py",
   "mimetype": "text/x-python",
   "name": "python",
   "nbconvert_exporter": "python",
   "pygments_lexer": "ipython2",
   "version": "2.7.11"
  }
 },
 "nbformat": 4,
 "nbformat_minor": 0
}
